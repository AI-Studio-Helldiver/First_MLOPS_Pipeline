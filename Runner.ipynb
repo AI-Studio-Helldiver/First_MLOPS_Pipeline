{
 "cells": [
  {
   "cell_type": "markdown",
   "id": "633b5116",
   "metadata": {},
   "source": [
    "# Pipeline Runner for AWS SageMaker Studio iPython Notebook"
   ]
  },
  {
   "cell_type": "markdown",
   "id": "1a4f7be9-2d31-4b0e-ae59-a44b7c3f7a3f",
   "metadata": {},
   "source": [
    "## Preparation Steps:\n",
    "### Before beginning:\n",
    "  1. Fork the Simple Flask App Repository and clone in your local device\n",
    "### Use the Instance Terminal:\n",
    "  2. Configure git:\n",
    "\n",
    "    ```bash\n",
    "      git config --global user.email \"you@example.com\"\n",
    "      git config --global user.name \"Your Name\"\n",
    "    ```\n",
    "\n",
    "  3. Clone MLOps repository in `/root/Repositories/` make this directory if it doesn't exist for you.\n",
    "  4. Generate a ssh key and save it inside the repository: `/root/Repositories/First_MLOPS_Pipeline`:\n",
    "    \n",
    "    ```bash\n",
    "    ssh-keygen -t ed25519 -C \"github_deploy_key\"\n",
    "    ```\n",
    "\n",
    "  5. update the .env file with the absolute path to this deploy key. Use Nano: `apt install -y nano`\n",
    "  6. add this ssh key to your forked github `Flask` project as a `Deploy Key`. Check `Repository>Settings>Deploy key`:\n",
    "  \n",
    "    ```bash\n",
    "      cat /root/Repositories/First_MLOPS_Pipeline/github_deploy_key.pub\n",
    "    ```\n",
    "    copy and paste the output in the Deploy key dialog box.\n",
    "  \n",
    "  7. cd to MLOPS repo, follow readme readme\n",
    "    - Install Poetry, add to path \n",
    "    - Configure Clear ml `clearml-init`\n",
    "\n",
    "### Finally:\n",
    "  8. use this notebook to run cleamrl pipeline"
   ]
  },
  {
   "cell_type": "markdown",
   "id": "2ce2dd6d",
   "metadata": {},
   "source": [
    "#### Checking the current working directory\n",
    "This should be inside the MLOps repository"
   ]
  },
  {
   "cell_type": "code",
   "execution_count": 4,
   "id": "33377abd-d09c-4fc2-a1d2-6080fc55f4a6",
   "metadata": {
    "tags": []
   },
   "outputs": [
    {
     "data": {
      "text/plain": [
       "'/root/Repositories/First_MLOPS_Pipeline'"
      ]
     },
     "execution_count": 4,
     "metadata": {},
     "output_type": "execute_result"
    }
   ],
   "source": [
    "pwd"
   ]
  },
  {
   "cell_type": "markdown",
   "id": "12d94b40",
   "metadata": {},
   "source": [
    "IF not, we move to this directory:"
   ]
  },
  {
   "cell_type": "code",
   "execution_count": 5,
   "id": "8beb0714-bba3-4c63-a7a8-4da61240f413",
   "metadata": {
    "tags": []
   },
   "outputs": [
    {
     "name": "stdout",
     "output_type": "stream",
     "text": [
      "/root/Repositories/First_MLOPS_Pipeline\n"
     ]
    }
   ],
   "source": [
    "cd /root/Repositories/First_MLOPS_Pipeline/"
   ]
  },
  {
   "cell_type": "markdown",
   "id": "7a543ea7",
   "metadata": {},
   "source": [
    "Let's check all the contents of this directory! Confirm that it has github deploy key, and .env"
   ]
  },
  {
   "cell_type": "code",
   "execution_count": 6,
   "id": "0d6feef3-7b1e-4da8-a3aa-d601bcfa719d",
   "metadata": {
    "tags": []
   },
   "outputs": [
    {
     "name": "stdout",
     "output_type": "stream",
     "text": [
      "Clearml_Setup.md  README.md              github_deploy_key  poetry.toml\n",
      "LICENCE           \u001b[0m\u001b[01;34mfirst_mlops_pipeline\u001b[0m/  poetry.lock        pyproject.toml\n"
     ]
    }
   ],
   "source": [
    "ls -la"
   ]
  },
  {
   "cell_type": "markdown",
   "id": "4cc6eec2",
   "metadata": {},
   "source": [
    "### Confirming ClearML and Poetry\n",
    "Confirm clearml is initalised, use poetry from path if path is not set"
   ]
  },
  {
   "cell_type": "code",
   "execution_count": 9,
   "id": "cc692ebd-d29e-40a4-ae86-418edcee19b1",
   "metadata": {
    "tags": []
   },
   "outputs": [
    {
     "name": "stdout",
     "output_type": "stream",
     "text": [
      "ClearML SDK setup process\n",
      "Configuration file already exists: /root/clearml.conf\n",
      "Leaving setup, feel free to edit the configuration file.\n"
     ]
    }
   ],
   "source": [
    "!/root/poetry/bin/poetry run clearml-init"
   ]
  },
  {
   "cell_type": "markdown",
   "id": "00986e26",
   "metadata": {},
   "source": [
    "### Run the pipeline!\n",
    "Put correct path to the .env file otherwise the deployment step would fail."
   ]
  },
  {
   "cell_type": "code",
   "execution_count": 31,
   "id": "59fa9d45-aa74-49d2-971a-daa155bd05c0",
   "metadata": {},
   "outputs": [
    {
     "name": "stdout",
     "output_type": "stream",
     "text": [
      "2024-02-28 03:28:28.709084: I tensorflow/core/util/port.cc:110] oneDNN custom operations are on. You may see slightly different numerical results due to floating-point round-off errors from different computation orders. To turn them off, set the environment variable `TF_ENABLE_ONEDNN_OPTS=0`.\n",
      "2024-02-28 03:28:28.760399: I tensorflow/core/platform/cpu_feature_guard.cc:182] This TensorFlow binary is optimized to use available CPU instructions in performance-critical operations.\n",
      "To enable the following instructions: AVX2 AVX512F AVX512_VNNI FMA, in other operations, rebuild TensorFlow with the appropriate compiler flags.\n",
      "2024-02-28 03:28:34.286785: W tensorflow/compiler/tf2tensorrt/utils/py_utils.cc:38] TF-TRT Warning: Could not find TensorRT\n",
      "ClearML Task: created new task id=7b75d0c3b7344eab89bdc1c619de0f60\n",
      "WARNING:tensorflow:Please fix your imports. Module tensorflow.python.training.tracking.util has been moved to tensorflow.python.checkpoint.checkpoint. The old module will be deleted in version 2.11.\n",
      "ClearML results page: https://app.clear.ml/projects/0557ed8d1d2b45f9ad0fc11980886908/experiments/7b75d0c3b7344eab89bdc1c619de0f60/output/log\n",
      "2024-02-28 03:28:59,759 - clearml.Task - INFO - Waiting for repository detection and full package requirement analysis\n",
      "2024-02-28 03:29:01,807 - clearml.Task - INFO - Finished repository detection and package analysis\n",
      "ClearML pipeline page: https://app.clear.ml/pipelines/0557ed8d1d2b45f9ad0fc11980886908/experiments/7b75d0c3b7344eab89bdc1c619de0f60\n",
      "2024-02-28 03:29:18,342 - clearml.automation.controller - INFO - Node \"preprocess_cifar10_data\" missing parent reference, adding: {'upload_cifar10_raw_data'}\n",
      "2024-02-28 03:29:18,343 - clearml.automation.controller - INFO - Node \"train_cifar10_model\" missing parent reference, adding: {'preprocess_cifar10_data'}\n",
      "2024-02-28 03:29:18,343 - clearml.automation.controller - INFO - Node \"evaluate_cifar10_model\" missing parent reference, adding: {'train_cifar10_model', 'preprocess_cifar10_data'}\n",
      "2024-02-28 03:29:18,344 - clearml.automation.controller - INFO - Node \"update_model_in_github\" missing parent reference, adding: {'train_cifar10_model'}\n",
      "Launching the next 1 steps\n",
      "Launching step [upload_cifar10_raw_data]\n",
      "Launching step: upload_cifar10_raw_data\n",
      "Parameters:\n",
      "{'kwargs/dataset_project': '${pipeline.dataset_project}', 'kwargs/dataset_name': '${pipeline.raw_dataset_name}'}\n",
      "Configurations:\n",
      "{}\n",
      "Overrides:\n",
      "{}\n",
      "2024-02-28 03:29:58.034246: I tensorflow/core/util/port.cc:110] oneDNN custom operations are on. You may see slightly different numerical results due to floating-point round-off errors from different computation orders. To turn them off, set the environment variable `TF_ENABLE_ONEDNN_OPTS=0`.\n",
      "2024-02-28 03:29:58.086355: I tensorflow/core/platform/cpu_feature_guard.cc:182] This TensorFlow binary is optimized to use available CPU instructions in performance-critical operations.\n",
      "To enable the following instructions: AVX2 AVX512F AVX512_VNNI FMA, in other operations, rebuild TensorFlow with the appropriate compiler flags.\n",
      "2024-02-28 03:30:03.794195: W tensorflow/compiler/tf2tensorrt/utils/py_utils.cc:38] TF-TRT Warning: Could not find TensorRT\n",
      "WARNING:tensorflow:Please fix your imports. Module tensorflow.python.training.tracking.util has been moved to tensorflow.python.checkpoint.checkpoint. The old module will be deleted in version 2.11.\n",
      "ClearML results page: https://app.clear.ml/projects/2ef0744e19f043b98076c0e7de33c1ab/experiments/d7de7c2a4a6c47b78861527e5974833f/output/log\n",
      "ClearML results page: https://app.clear.ml/projects/ef4e2a897aa74036b4b1861cd81e41b6/experiments/7c58abbd67be4da39f073b96cb515356/output/log\n",
      "ClearML dataset page: https://app.clear.ml/datasets/simple/ef4e2a897aa74036b4b1861cd81e41b6/experiments/7c58abbd67be4da39f073b96cb515356\n",
      "Uploading dataset changes (4 files compressed to 164.13 MiB) to https://files.clear.ml\n",
      "File compression and upload completed: total size 164.13 MiB, 1 chunk(s) stored (average size 164.13 MiB)\n",
      "Raw CIFAR-10 dataset uploaded with ID: 7c58abbd67be4da39f073b96cb515356\n",
      "Launching the next 1 steps\n",
      "Launching step [preprocess_cifar10_data]\n",
      "Launching step: preprocess_cifar10_data\n",
      "Parameters:\n",
      "{'kwargs/processed_dataset_project': '${pipeline.dataset_project}', 'kwargs/processed_dataset_name': '${pipeline.processed_dataset_name}', 'kwargs_artifacts/raw_dataset_id': '${upload_cifar10_raw_data.id}.raw_dataset_id'}\n",
      "Configurations:\n",
      "{}\n",
      "Overrides:\n",
      "{}\n",
      "ClearML results page: https://app.clear.ml/projects/2ef0744e19f043b98076c0e7de33c1ab/experiments/f74ef3e240ce4bb293730c158e141549/output/log\n",
      "2024-02-28 03:33:39,284 - clearml - INFO - Dataset.get() did not specify alias. Dataset information will not be automatically logged in ClearML Server.\n",
      "2024-02-28 03:33:54,908 - clearml.storage - INFO - Downloading: 5.00MB / 164.13MB @ 2.08MBs from https://files.clear.ml/CIFAR-10%20Project/.datasets/CIFAR-10%20Raw/CIFAR-10%20Raw.7c58abbd67be4da39f073b96cb515356/artifacts/data/dataset.7c58abbd67be4da39f073b96cb515356.rrvxux2z.zip\n",
      "2024-02-28 03:33:55,299 - clearml.storage - INFO - Downloading: 10.00MB / 164.13MB @ 12.82MBs from https://files.clear.ml/CIFAR-10%20Project/.datasets/CIFAR-10%20Raw/CIFAR-10%20Raw.7c58abbd67be4da39f073b96cb515356/artifacts/data/dataset.7c58abbd67be4da39f073b96cb515356.rrvxux2z.zip\n",
      "2024-02-28 03:33:55,690 - clearml.storage - INFO - Downloading: 15.00MB / 164.13MB @ 12.82MBs from https://files.clear.ml/CIFAR-10%20Project/.datasets/CIFAR-10%20Raw/CIFAR-10%20Raw.7c58abbd67be4da39f073b96cb515356/artifacts/data/dataset.7c58abbd67be4da39f073b96cb515356.rrvxux2z.zip\n",
      "2024-02-28 03:33:55,926 - clearml.storage - INFO - Downloading: 20.00MB / 164.13MB @ 21.25MBs from https://files.clear.ml/CIFAR-10%20Project/.datasets/CIFAR-10%20Raw/CIFAR-10%20Raw.7c58abbd67be4da39f073b96cb515356/artifacts/data/dataset.7c58abbd67be4da39f073b96cb515356.rrvxux2z.zip\n",
      "2024-02-28 03:33:56,290 - clearml.storage - INFO - Downloading: 25.00MB / 164.13MB @ 13.73MBs from https://files.clear.ml/CIFAR-10%20Project/.datasets/CIFAR-10%20Raw/CIFAR-10%20Raw.7c58abbd67be4da39f073b96cb515356/artifacts/data/dataset.7c58abbd67be4da39f073b96cb515356.rrvxux2z.zip\n",
      "2024-02-28 03:33:56,680 - clearml.storage - INFO - Downloading: 30.00MB / 164.13MB @ 12.84MBs from https://files.clear.ml/CIFAR-10%20Project/.datasets/CIFAR-10%20Raw/CIFAR-10%20Raw.7c58abbd67be4da39f073b96cb515356/artifacts/data/dataset.7c58abbd67be4da39f073b96cb515356.rrvxux2z.zip\n",
      "2024-02-28 03:33:56,952 - clearml.storage - INFO - Downloading: 35.00MB / 164.13MB @ 18.46MBs from https://files.clear.ml/CIFAR-10%20Project/.datasets/CIFAR-10%20Raw/CIFAR-10%20Raw.7c58abbd67be4da39f073b96cb515356/artifacts/data/dataset.7c58abbd67be4da39f073b96cb515356.rrvxux2z.zip\n",
      "2024-02-28 03:33:57,302 - clearml.storage - INFO - Downloading: 40.00MB / 164.13MB @ 14.32MBs from https://files.clear.ml/CIFAR-10%20Project/.datasets/CIFAR-10%20Raw/CIFAR-10%20Raw.7c58abbd67be4da39f073b96cb515356/artifacts/data/dataset.7c58abbd67be4da39f073b96cb515356.rrvxux2z.zip\n",
      "2024-02-28 03:33:57,671 - clearml.storage - INFO - Downloading: 45.00MB / 164.13MB @ 13.56MBs from https://files.clear.ml/CIFAR-10%20Project/.datasets/CIFAR-10%20Raw/CIFAR-10%20Raw.7c58abbd67be4da39f073b96cb515356/artifacts/data/dataset.7c58abbd67be4da39f073b96cb515356.rrvxux2z.zip\n",
      "2024-02-28 03:33:58,046 - clearml.storage - INFO - Downloading: 50.00MB / 164.13MB @ 13.36MBs from https://files.clear.ml/CIFAR-10%20Project/.datasets/CIFAR-10%20Raw/CIFAR-10%20Raw.7c58abbd67be4da39f073b96cb515356/artifacts/data/dataset.7c58abbd67be4da39f073b96cb515356.rrvxux2z.zip\n",
      "2024-02-28 03:33:58,328 - clearml.storage - INFO - Downloading: 55.00MB / 164.13MB @ 17.76MBs from https://files.clear.ml/CIFAR-10%20Project/.datasets/CIFAR-10%20Raw/CIFAR-10%20Raw.7c58abbd67be4da39f073b96cb515356/artifacts/data/dataset.7c58abbd67be4da39f073b96cb515356.rrvxux2z.zip\n",
      "2024-02-28 03:33:58,679 - clearml.storage - INFO - Downloading: 60.00MB / 164.13MB @ 14.27MBs from https://files.clear.ml/CIFAR-10%20Project/.datasets/CIFAR-10%20Raw/CIFAR-10%20Raw.7c58abbd67be4da39f073b96cb515356/artifacts/data/dataset.7c58abbd67be4da39f073b96cb515356.rrvxux2z.zip\n",
      "2024-02-28 03:33:59,044 - clearml.storage - INFO - Downloading: 65.00MB / 164.13MB @ 13.72MBs from https://files.clear.ml/CIFAR-10%20Project/.datasets/CIFAR-10%20Raw/CIFAR-10%20Raw.7c58abbd67be4da39f073b96cb515356/artifacts/data/dataset.7c58abbd67be4da39f073b96cb515356.rrvxux2z.zip\n",
      "2024-02-28 03:33:59,319 - clearml.storage - INFO - Downloading: 70.00MB / 164.13MB @ 18.28MBs from https://files.clear.ml/CIFAR-10%20Project/.datasets/CIFAR-10%20Raw/CIFAR-10%20Raw.7c58abbd67be4da39f073b96cb515356/artifacts/data/dataset.7c58abbd67be4da39f073b96cb515356.rrvxux2z.zip\n",
      "2024-02-28 03:33:59,668 - clearml.storage - INFO - Downloading: 75.00MB / 164.13MB @ 14.33MBs from https://files.clear.ml/CIFAR-10%20Project/.datasets/CIFAR-10%20Raw/CIFAR-10%20Raw.7c58abbd67be4da39f073b96cb515356/artifacts/data/dataset.7c58abbd67be4da39f073b96cb515356.rrvxux2z.zip\n",
      "2024-02-28 03:34:00,037 - clearml.storage - INFO - Downloading: 80.00MB / 164.13MB @ 13.58MBs from https://files.clear.ml/CIFAR-10%20Project/.datasets/CIFAR-10%20Raw/CIFAR-10%20Raw.7c58abbd67be4da39f073b96cb515356/artifacts/data/dataset.7c58abbd67be4da39f073b96cb515356.rrvxux2z.zip\n",
      "2024-02-28 03:34:00,405 - clearml.storage - INFO - Downloading: 85.00MB / 164.13MB @ 13.62MBs from https://files.clear.ml/CIFAR-10%20Project/.datasets/CIFAR-10%20Raw/CIFAR-10%20Raw.7c58abbd67be4da39f073b96cb515356/artifacts/data/dataset.7c58abbd67be4da39f073b96cb515356.rrvxux2z.zip\n",
      "2024-02-28 03:34:00,688 - clearml.storage - INFO - Downloading: 90.00MB / 164.13MB @ 17.74MBs from https://files.clear.ml/CIFAR-10%20Project/.datasets/CIFAR-10%20Raw/CIFAR-10%20Raw.7c58abbd67be4da39f073b96cb515356/artifacts/data/dataset.7c58abbd67be4da39f073b96cb515356.rrvxux2z.zip\n",
      "2024-02-28 03:34:01,044 - clearml.storage - INFO - Downloading: 95.00MB / 164.13MB @ 14.04MBs from https://files.clear.ml/CIFAR-10%20Project/.datasets/CIFAR-10%20Raw/CIFAR-10%20Raw.7c58abbd67be4da39f073b96cb515356/artifacts/data/dataset.7c58abbd67be4da39f073b96cb515356.rrvxux2z.zip\n",
      "2024-02-28 03:34:01,404 - clearml.storage - INFO - Downloading: 100.00MB / 164.13MB @ 13.95MBs from https://files.clear.ml/CIFAR-10%20Project/.datasets/CIFAR-10%20Raw/CIFAR-10%20Raw.7c58abbd67be4da39f073b96cb515356/artifacts/data/dataset.7c58abbd67be4da39f073b96cb515356.rrvxux2z.zip\n",
      "2024-02-28 03:34:01,677 - clearml.storage - INFO - Downloading: 105.00MB / 164.13MB @ 18.35MBs from https://files.clear.ml/CIFAR-10%20Project/.datasets/CIFAR-10%20Raw/CIFAR-10%20Raw.7c58abbd67be4da39f073b96cb515356/artifacts/data/dataset.7c58abbd67be4da39f073b96cb515356.rrvxux2z.zip\n",
      "2024-02-28 03:34:02,063 - clearml.storage - INFO - Downloading: 110.00MB / 164.13MB @ 12.98MBs from https://files.clear.ml/CIFAR-10%20Project/.datasets/CIFAR-10%20Raw/CIFAR-10%20Raw.7c58abbd67be4da39f073b96cb515356/artifacts/data/dataset.7c58abbd67be4da39f073b96cb515356.rrvxux2z.zip\n",
      "2024-02-28 03:34:02,396 - clearml.storage - INFO - Downloading: 115.00MB / 164.13MB @ 15.01MBs from https://files.clear.ml/CIFAR-10%20Project/.datasets/CIFAR-10%20Raw/CIFAR-10%20Raw.7c58abbd67be4da39f073b96cb515356/artifacts/data/dataset.7c58abbd67be4da39f073b96cb515356.rrvxux2z.zip\n",
      "2024-02-28 03:34:02,765 - clearml.storage - INFO - Downloading: 120.00MB / 164.13MB @ 13.58MBs from https://files.clear.ml/CIFAR-10%20Project/.datasets/CIFAR-10%20Raw/CIFAR-10%20Raw.7c58abbd67be4da39f073b96cb515356/artifacts/data/dataset.7c58abbd67be4da39f073b96cb515356.rrvxux2z.zip\n",
      "2024-02-28 03:34:03,052 - clearml.storage - INFO - Downloading: 125.00MB / 164.13MB @ 17.43MBs from https://files.clear.ml/CIFAR-10%20Project/.datasets/CIFAR-10%20Raw/CIFAR-10%20Raw.7c58abbd67be4da39f073b96cb515356/artifacts/data/dataset.7c58abbd67be4da39f073b96cb515356.rrvxux2z.zip\n",
      "2024-02-28 03:34:03,402 - clearml.storage - INFO - Downloading: 130.00MB / 164.13MB @ 14.32MBs from https://files.clear.ml/CIFAR-10%20Project/.datasets/CIFAR-10%20Raw/CIFAR-10%20Raw.7c58abbd67be4da39f073b96cb515356/artifacts/data/dataset.7c58abbd67be4da39f073b96cb515356.rrvxux2z.zip\n",
      "2024-02-28 03:34:03,755 - clearml.storage - INFO - Downloading: 135.00MB / 164.13MB @ 14.18MBs from https://files.clear.ml/CIFAR-10%20Project/.datasets/CIFAR-10%20Raw/CIFAR-10%20Raw.7c58abbd67be4da39f073b96cb515356/artifacts/data/dataset.7c58abbd67be4da39f073b96cb515356.rrvxux2z.zip\n",
      "2024-02-28 03:34:04,043 - clearml.storage - INFO - Downloading: 140.00MB / 164.13MB @ 17.46MBs from https://files.clear.ml/CIFAR-10%20Project/.datasets/CIFAR-10%20Raw/CIFAR-10%20Raw.7c58abbd67be4da39f073b96cb515356/artifacts/data/dataset.7c58abbd67be4da39f073b96cb515356.rrvxux2z.zip\n",
      "2024-02-28 03:34:04,393 - clearml.storage - INFO - Downloading: 145.00MB / 164.13MB @ 14.29MBs from https://files.clear.ml/CIFAR-10%20Project/.datasets/CIFAR-10%20Raw/CIFAR-10%20Raw.7c58abbd67be4da39f073b96cb515356/artifacts/data/dataset.7c58abbd67be4da39f073b96cb515356.rrvxux2z.zip\n",
      "2024-02-28 03:34:04,755 - clearml.storage - INFO - Downloading: 150.00MB / 164.13MB @ 13.84MBs from https://files.clear.ml/CIFAR-10%20Project/.datasets/CIFAR-10%20Raw/CIFAR-10%20Raw.7c58abbd67be4da39f073b96cb515356/artifacts/data/dataset.7c58abbd67be4da39f073b96cb515356.rrvxux2z.zip\n",
      "2024-02-28 03:34:05,067 - clearml.storage - INFO - Downloading: 155.00MB / 164.13MB @ 16.06MBs from https://files.clear.ml/CIFAR-10%20Project/.datasets/CIFAR-10%20Raw/CIFAR-10%20Raw.7c58abbd67be4da39f073b96cb515356/artifacts/data/dataset.7c58abbd67be4da39f073b96cb515356.rrvxux2z.zip\n",
      "2024-02-28 03:34:05,412 - clearml.storage - INFO - Downloading: 160.00MB / 164.13MB @ 14.55MBs from https://files.clear.ml/CIFAR-10%20Project/.datasets/CIFAR-10%20Raw/CIFAR-10%20Raw.7c58abbd67be4da39f073b96cb515356/artifacts/data/dataset.7c58abbd67be4da39f073b96cb515356.rrvxux2z.zip\n",
      "2024-02-28 03:34:05,718 - clearml.storage - INFO - Downloading: 164.13MB / 164.13MB @ 13.53MBs from https://files.clear.ml/CIFAR-10%20Project/.datasets/CIFAR-10%20Raw/CIFAR-10%20Raw.7c58abbd67be4da39f073b96cb515356/artifacts/data/dataset.7c58abbd67be4da39f073b96cb515356.rrvxux2z.zip\n",
      "2024-02-28 03:34:06,476 - clearml.storage - INFO - Downloaded 164.13 MB successfully from https://files.clear.ml/CIFAR-10%20Project/.datasets/CIFAR-10%20Raw/CIFAR-10%20Raw.7c58abbd67be4da39f073b96cb515356/artifacts/data/dataset.7c58abbd67be4da39f073b96cb515356.rrvxux2z.zip , saved to /root/.clearml/cache/storage_manager/datasets/e641a4b1066a49c5ac93f55b465fc9dd.dataset.7c58abbd67be4da39f073b96cb515356.rrvxux2z.zip\n",
      "2024-02-28 03:34:09,735 - clearml - INFO - Dataset.get() did not specify alias. Dataset information will not be automatically logged in ClearML Server.\n",
      "2024-02-28 03:34:34,887 - clearml - INFO - Dataset.get() did not specify alias. Dataset information will not be automatically logged in ClearML Server.\n",
      "2024-02-28 03:34:59,559 - clearml - INFO - Dataset.get() did not specify alias. Dataset information will not be automatically logged in ClearML Server.\n",
      "ClearML results page: https://app.clear.ml/projects/a6e58c1342e641f3854aa651259a3b6c/experiments/abda7fe9162d484ab4f59cd5d9aea048/output/log\n",
      "ClearML dataset page: https://app.clear.ml/datasets/simple/a6e58c1342e641f3854aa651259a3b6c/experiments/abda7fe9162d484ab4f59cd5d9aea048\n",
      "2024-02-28 03:35:24,640 - clearml - INFO - Dataset.get() did not specify alias. Dataset information will not be automatically logged in ClearML Server.\n",
      "2024-02-28 03:35:39,448 - clearml - INFO - Dataset.get() did not specify alias. Dataset information will not be automatically logged in ClearML Server.\n",
      "2024-02-28 03:35:54,852 - clearml - INFO - Dataset.get() did not specify alias. Dataset information will not be automatically logged in ClearML Server.\n",
      "2024-02-28 03:36:09,681 - clearml - INFO - Dataset.get() did not specify alias. Dataset information will not be automatically logged in ClearML Server.\n",
      "ClearML Monitor: Could not detect iteration reporting, falling back to iterations as seconds-from-start\n",
      "Uploading dataset changes (4 files compressed to 442.64 MiB) to https://files.clear.ml\n",
      "2024-02-28 03:37:18,393 - clearml - INFO - Dataset.get() did not specify alias. Dataset information will not be automatically logged in ClearML Server.\n",
      "File compression and upload completed: total size 442.64 MiB, 1 chunk(s) stored (average size 442.64 MiB)\n",
      "2024-02-28 03:38:03,824 - clearml - INFO - Dataset.get() did not specify alias. Dataset information will not be automatically logged in ClearML Server.\n",
      "2024-02-28 03:38:18,663 - clearml - INFO - Dataset.get() did not specify alias. Dataset information will not be automatically logged in ClearML Server.\n",
      "2024-02-28 03:38:28,717 - clearml - INFO - Dataset.get() did not specify alias. Dataset information will not be automatically logged in ClearML Server.\n",
      "Preprocessed CIFAR-10 dataset uploaded with ID: abda7fe9162d484ab4f59cd5d9aea048\n",
      "Launching the next 1 steps\n",
      "Launching step [train_cifar10_model]\n",
      "Launching step: train_cifar10_model\n",
      "Parameters:\n",
      "{'kwargs/epochs': '${pipeline.epochs}', 'kwargs/project_name': '${pipeline.dataset_project}', 'kwargs_artifacts/processed_dataset_id': '${preprocess_cifar10_data.id}.processed_dataset_id'}\n",
      "Configurations:\n",
      "{}\n",
      "Overrides:\n",
      "{}\n",
      "2024-02-28 03:40:01.090358: I tensorflow/core/util/port.cc:110] oneDNN custom operations are on. You may see slightly different numerical results due to floating-point round-off errors from different computation orders. To turn them off, set the environment variable `TF_ENABLE_ONEDNN_OPTS=0`.\n",
      "2024-02-28 03:40:01.144966: I tensorflow/core/platform/cpu_feature_guard.cc:182] This TensorFlow binary is optimized to use available CPU instructions in performance-critical operations.\n",
      "To enable the following instructions: AVX2 AVX512F AVX512_VNNI FMA, in other operations, rebuild TensorFlow with the appropriate compiler flags.\n",
      "2024-02-28 03:40:07.337384: W tensorflow/compiler/tf2tensorrt/utils/py_utils.cc:38] TF-TRT Warning: Could not find TensorRT\n",
      "WARNING:tensorflow:Please fix your imports. Module tensorflow.python.training.tracking.util has been moved to tensorflow.python.checkpoint.checkpoint. The old module will be deleted in version 2.11.\n",
      "ClearML results page: https://app.clear.ml/projects/2ef0744e19f043b98076c0e7de33c1ab/experiments/a74bbaf8f7fa4f29bbb26ba222949b0f/output/log\n",
      "2024-02-28 03:41:06,094 - clearml - INFO - Dataset.get() did not specify alias. Dataset information will not be automatically logged in ClearML Server.\n",
      "2024-02-28 03:41:21,190 - clearml.storage - INFO - Downloading: 5.00MB / 442.64MB @ 2.08MBs from https://files.clear.ml/CIFAR-10%20Project/.datasets/CIFAR-10%20Preprocessed/CIFAR-10%20Preprocessed.abda7fe9162d484ab4f59cd5d9aea048/artifacts/data/dataset.abda7fe9162d484ab4f59cd5d9aea048.1orgi_fo.zip\n",
      "2024-02-28 03:41:21,584 - clearml.storage - INFO - Downloading: 10.00MB / 442.64MB @ 12.72MBs from https://files.clear.ml/CIFAR-10%20Project/.datasets/CIFAR-10%20Preprocessed/CIFAR-10%20Preprocessed.abda7fe9162d484ab4f59cd5d9aea048/artifacts/data/dataset.abda7fe9162d484ab4f59cd5d9aea048.1orgi_fo.zip\n",
      "2024-02-28 03:41:21,822 - clearml.storage - INFO - Downloading: 15.00MB / 442.64MB @ 21.05MBs from https://files.clear.ml/CIFAR-10%20Project/.datasets/CIFAR-10%20Preprocessed/CIFAR-10%20Preprocessed.abda7fe9162d484ab4f59cd5d9aea048/artifacts/data/dataset.abda7fe9162d484ab4f59cd5d9aea048.1orgi_fo.zip\n",
      "2024-02-28 03:41:22,188 - clearml.storage - INFO - Downloading: 20.00MB / 442.64MB @ 13.68MBs from https://files.clear.ml/CIFAR-10%20Project/.datasets/CIFAR-10%20Preprocessed/CIFAR-10%20Preprocessed.abda7fe9162d484ab4f59cd5d9aea048/artifacts/data/dataset.abda7fe9162d484ab4f59cd5d9aea048.1orgi_fo.zip\n",
      "2024-02-28 03:41:22,579 - clearml.storage - INFO - Downloading: 25.00MB / 442.64MB @ 12.81MBs from https://files.clear.ml/CIFAR-10%20Project/.datasets/CIFAR-10%20Preprocessed/CIFAR-10%20Preprocessed.abda7fe9162d484ab4f59cd5d9aea048/artifacts/data/dataset.abda7fe9162d484ab4f59cd5d9aea048.1orgi_fo.zip\n",
      "2024-02-28 03:41:22,963 - clearml.storage - INFO - Downloading: 30.00MB / 442.64MB @ 13.07MBs from https://files.clear.ml/CIFAR-10%20Project/.datasets/CIFAR-10%20Preprocessed/CIFAR-10%20Preprocessed.abda7fe9162d484ab4f59cd5d9aea048/artifacts/data/dataset.abda7fe9162d484ab4f59cd5d9aea048.1orgi_fo.zip\n",
      "2024-02-28 03:41:23,202 - clearml.storage - INFO - Downloading: 35.00MB / 442.64MB @ 20.91MBs from https://files.clear.ml/CIFAR-10%20Project/.datasets/CIFAR-10%20Preprocessed/CIFAR-10%20Preprocessed.abda7fe9162d484ab4f59cd5d9aea048/artifacts/data/dataset.abda7fe9162d484ab4f59cd5d9aea048.1orgi_fo.zip\n",
      "2024-02-28 03:41:23,597 - clearml.storage - INFO - Downloading: 40.00MB / 442.64MB @ 12.68MBs from https://files.clear.ml/CIFAR-10%20Project/.datasets/CIFAR-10%20Preprocessed/CIFAR-10%20Preprocessed.abda7fe9162d484ab4f59cd5d9aea048/artifacts/data/dataset.abda7fe9162d484ab4f59cd5d9aea048.1orgi_fo.zip\n",
      "2024-02-28 03:41:23,961 - clearml.storage - INFO - Downloading: 45.00MB / 442.64MB @ 13.83MBs from https://files.clear.ml/CIFAR-10%20Project/.datasets/CIFAR-10%20Preprocessed/CIFAR-10%20Preprocessed.abda7fe9162d484ab4f59cd5d9aea048/artifacts/data/dataset.abda7fe9162d484ab4f59cd5d9aea048.1orgi_fo.zip\n",
      "2024-02-28 03:41:24,201 - clearml.storage - INFO - Downloading: 50.00MB / 442.64MB @ 20.90MBs from https://files.clear.ml/CIFAR-10%20Project/.datasets/CIFAR-10%20Preprocessed/CIFAR-10%20Preprocessed.abda7fe9162d484ab4f59cd5d9aea048/artifacts/data/dataset.abda7fe9162d484ab4f59cd5d9aea048.1orgi_fo.zip\n",
      "2024-02-28 03:41:24,595 - clearml.storage - INFO - Downloading: 55.00MB / 442.64MB @ 12.71MBs from https://files.clear.ml/CIFAR-10%20Project/.datasets/CIFAR-10%20Preprocessed/CIFAR-10%20Preprocessed.abda7fe9162d484ab4f59cd5d9aea048/artifacts/data/dataset.abda7fe9162d484ab4f59cd5d9aea048.1orgi_fo.zip\n",
      "2024-02-28 03:41:24,957 - clearml.storage - INFO - Downloading: 60.00MB / 442.64MB @ 13.83MBs from https://files.clear.ml/CIFAR-10%20Project/.datasets/CIFAR-10%20Preprocessed/CIFAR-10%20Preprocessed.abda7fe9162d484ab4f59cd5d9aea048/artifacts/data/dataset.abda7fe9162d484ab4f59cd5d9aea048.1orgi_fo.zip\n",
      "2024-02-28 03:41:25,333 - clearml.storage - INFO - Downloading: 65.00MB / 442.64MB @ 13.31MBs from https://files.clear.ml/CIFAR-10%20Project/.datasets/CIFAR-10%20Preprocessed/CIFAR-10%20Preprocessed.abda7fe9162d484ab4f59cd5d9aea048/artifacts/data/dataset.abda7fe9162d484ab4f59cd5d9aea048.1orgi_fo.zip\n",
      "2024-02-28 03:41:25,591 - clearml.storage - INFO - Downloading: 70.00MB / 442.64MB @ 19.48MBs from https://files.clear.ml/CIFAR-10%20Project/.datasets/CIFAR-10%20Preprocessed/CIFAR-10%20Preprocessed.abda7fe9162d484ab4f59cd5d9aea048/artifacts/data/dataset.abda7fe9162d484ab4f59cd5d9aea048.1orgi_fo.zip\n",
      "2024-02-28 03:41:25,977 - clearml.storage - INFO - Downloading: 75.00MB / 442.64MB @ 12.95MBs from https://files.clear.ml/CIFAR-10%20Project/.datasets/CIFAR-10%20Preprocessed/CIFAR-10%20Preprocessed.abda7fe9162d484ab4f59cd5d9aea048/artifacts/data/dataset.abda7fe9162d484ab4f59cd5d9aea048.1orgi_fo.zip\n",
      "2024-02-28 03:41:26,330 - clearml.storage - INFO - Downloading: 80.00MB / 442.64MB @ 14.22MBs from https://files.clear.ml/CIFAR-10%20Project/.datasets/CIFAR-10%20Preprocessed/CIFAR-10%20Preprocessed.abda7fe9162d484ab4f59cd5d9aea048/artifacts/data/dataset.abda7fe9162d484ab4f59cd5d9aea048.1orgi_fo.zip\n",
      "2024-02-28 03:41:26,585 - clearml.storage - INFO - Downloading: 85.00MB / 442.64MB @ 19.66MBs from https://files.clear.ml/CIFAR-10%20Project/.datasets/CIFAR-10%20Preprocessed/CIFAR-10%20Preprocessed.abda7fe9162d484ab4f59cd5d9aea048/artifacts/data/dataset.abda7fe9162d484ab4f59cd5d9aea048.1orgi_fo.zip\n",
      "2024-02-28 03:41:26,974 - clearml.storage - INFO - Downloading: 90.00MB / 442.64MB @ 12.86MBs from https://files.clear.ml/CIFAR-10%20Project/.datasets/CIFAR-10%20Preprocessed/CIFAR-10%20Preprocessed.abda7fe9162d484ab4f59cd5d9aea048/artifacts/data/dataset.abda7fe9162d484ab4f59cd5d9aea048.1orgi_fo.zip\n",
      "2024-02-28 03:41:27,331 - clearml.storage - INFO - Downloading: 95.00MB / 442.64MB @ 14.04MBs from https://files.clear.ml/CIFAR-10%20Project/.datasets/CIFAR-10%20Preprocessed/CIFAR-10%20Preprocessed.abda7fe9162d484ab4f59cd5d9aea048/artifacts/data/dataset.abda7fe9162d484ab4f59cd5d9aea048.1orgi_fo.zip\n",
      "2024-02-28 03:41:27,709 - clearml.storage - INFO - Downloading: 100.00MB / 442.64MB @ 13.25MBs from https://files.clear.ml/CIFAR-10%20Project/.datasets/CIFAR-10%20Preprocessed/CIFAR-10%20Preprocessed.abda7fe9162d484ab4f59cd5d9aea048/artifacts/data/dataset.abda7fe9162d484ab4f59cd5d9aea048.1orgi_fo.zip\n",
      "2024-02-28 03:41:27,970 - clearml.storage - INFO - Downloading: 105.00MB / 442.64MB @ 19.22MBs from https://files.clear.ml/CIFAR-10%20Project/.datasets/CIFAR-10%20Preprocessed/CIFAR-10%20Preprocessed.abda7fe9162d484ab4f59cd5d9aea048/artifacts/data/dataset.abda7fe9162d484ab4f59cd5d9aea048.1orgi_fo.zip\n",
      "2024-02-28 03:41:28,349 - clearml.storage - INFO - Downloading: 110.00MB / 442.64MB @ 13.21MBs from https://files.clear.ml/CIFAR-10%20Project/.datasets/CIFAR-10%20Preprocessed/CIFAR-10%20Preprocessed.abda7fe9162d484ab4f59cd5d9aea048/artifacts/data/dataset.abda7fe9162d484ab4f59cd5d9aea048.1orgi_fo.zip\n",
      "2024-02-28 03:41:28,704 - clearml.storage - INFO - Downloading: 115.00MB / 442.64MB @ 14.10MBs from https://files.clear.ml/CIFAR-10%20Project/.datasets/CIFAR-10%20Preprocessed/CIFAR-10%20Preprocessed.abda7fe9162d484ab4f59cd5d9aea048/artifacts/data/dataset.abda7fe9162d484ab4f59cd5d9aea048.1orgi_fo.zip\n",
      "2024-02-28 03:41:29,090 - clearml.storage - INFO - Downloading: 120.00MB / 442.64MB @ 12.99MBs from https://files.clear.ml/CIFAR-10%20Project/.datasets/CIFAR-10%20Preprocessed/CIFAR-10%20Preprocessed.abda7fe9162d484ab4f59cd5d9aea048/artifacts/data/dataset.abda7fe9162d484ab4f59cd5d9aea048.1orgi_fo.zip\n",
      "2024-02-28 03:41:29,346 - clearml.storage - INFO - Downloading: 125.00MB / 442.64MB @ 19.54MBs from https://files.clear.ml/CIFAR-10%20Project/.datasets/CIFAR-10%20Preprocessed/CIFAR-10%20Preprocessed.abda7fe9162d484ab4f59cd5d9aea048/artifacts/data/dataset.abda7fe9162d484ab4f59cd5d9aea048.1orgi_fo.zip\n",
      "2024-02-28 03:41:29,702 - clearml.storage - INFO - Downloading: 130.00MB / 442.64MB @ 14.08MBs from https://files.clear.ml/CIFAR-10%20Project/.datasets/CIFAR-10%20Preprocessed/CIFAR-10%20Preprocessed.abda7fe9162d484ab4f59cd5d9aea048/artifacts/data/dataset.abda7fe9162d484ab4f59cd5d9aea048.1orgi_fo.zip\n",
      "2024-02-28 03:41:30,087 - clearml.storage - INFO - Downloading: 135.00MB / 442.64MB @ 13.01MBs from https://files.clear.ml/CIFAR-10%20Project/.datasets/CIFAR-10%20Preprocessed/CIFAR-10%20Preprocessed.abda7fe9162d484ab4f59cd5d9aea048/artifacts/data/dataset.abda7fe9162d484ab4f59cd5d9aea048.1orgi_fo.zip\n",
      "2024-02-28 03:41:30,341 - clearml.storage - INFO - Downloading: 140.00MB / 442.64MB @ 19.79MBs from https://files.clear.ml/CIFAR-10%20Project/.datasets/CIFAR-10%20Preprocessed/CIFAR-10%20Preprocessed.abda7fe9162d484ab4f59cd5d9aea048/artifacts/data/dataset.abda7fe9162d484ab4f59cd5d9aea048.1orgi_fo.zip\n",
      "2024-02-28 03:41:30,715 - clearml.storage - INFO - Downloading: 145.00MB / 442.64MB @ 13.38MBs from https://files.clear.ml/CIFAR-10%20Project/.datasets/CIFAR-10%20Preprocessed/CIFAR-10%20Preprocessed.abda7fe9162d484ab4f59cd5d9aea048/artifacts/data/dataset.abda7fe9162d484ab4f59cd5d9aea048.1orgi_fo.zip\n",
      "2024-02-28 03:41:31,082 - clearml.storage - INFO - Downloading: 150.00MB / 442.64MB @ 13.64MBs from https://files.clear.ml/CIFAR-10%20Project/.datasets/CIFAR-10%20Preprocessed/CIFAR-10%20Preprocessed.abda7fe9162d484ab4f59cd5d9aea048/artifacts/data/dataset.abda7fe9162d484ab4f59cd5d9aea048.1orgi_fo.zip\n",
      "2024-02-28 03:41:31,337 - clearml.storage - INFO - Downloading: 155.00MB / 442.64MB @ 19.71MBs from https://files.clear.ml/CIFAR-10%20Project/.datasets/CIFAR-10%20Preprocessed/CIFAR-10%20Preprocessed.abda7fe9162d484ab4f59cd5d9aea048/artifacts/data/dataset.abda7fe9162d484ab4f59cd5d9aea048.1orgi_fo.zip\n",
      "2024-02-28 03:41:31,717 - clearml.storage - INFO - Downloading: 160.00MB / 442.64MB @ 13.19MBs from https://files.clear.ml/CIFAR-10%20Project/.datasets/CIFAR-10%20Preprocessed/CIFAR-10%20Preprocessed.abda7fe9162d484ab4f59cd5d9aea048/artifacts/data/dataset.abda7fe9162d484ab4f59cd5d9aea048.1orgi_fo.zip\n",
      "2024-02-28 03:41:32,077 - clearml.storage - INFO - Downloading: 165.00MB / 442.64MB @ 13.90MBs from https://files.clear.ml/CIFAR-10%20Project/.datasets/CIFAR-10%20Preprocessed/CIFAR-10%20Preprocessed.abda7fe9162d484ab4f59cd5d9aea048/artifacts/data/dataset.abda7fe9162d484ab4f59cd5d9aea048.1orgi_fo.zip\n",
      "2024-02-28 03:41:32,450 - clearml.storage - INFO - Downloading: 170.00MB / 442.64MB @ 13.45MBs from https://files.clear.ml/CIFAR-10%20Project/.datasets/CIFAR-10%20Preprocessed/CIFAR-10%20Preprocessed.abda7fe9162d484ab4f59cd5d9aea048/artifacts/data/dataset.abda7fe9162d484ab4f59cd5d9aea048.1orgi_fo.zip\n",
      "2024-02-28 03:41:32,713 - clearml.storage - INFO - Downloading: 175.00MB / 442.64MB @ 19.03MBs from https://files.clear.ml/CIFAR-10%20Project/.datasets/CIFAR-10%20Preprocessed/CIFAR-10%20Preprocessed.abda7fe9162d484ab4f59cd5d9aea048/artifacts/data/dataset.abda7fe9162d484ab4f59cd5d9aea048.1orgi_fo.zip\n",
      "2024-02-28 03:41:33,087 - clearml.storage - INFO - Downloading: 180.00MB / 442.64MB @ 13.41MBs from https://files.clear.ml/CIFAR-10%20Project/.datasets/CIFAR-10%20Preprocessed/CIFAR-10%20Preprocessed.abda7fe9162d484ab4f59cd5d9aea048/artifacts/data/dataset.abda7fe9162d484ab4f59cd5d9aea048.1orgi_fo.zip\n",
      "2024-02-28 03:41:33,454 - clearml.storage - INFO - Downloading: 185.00MB / 442.64MB @ 13.65MBs from https://files.clear.ml/CIFAR-10%20Project/.datasets/CIFAR-10%20Preprocessed/CIFAR-10%20Preprocessed.abda7fe9162d484ab4f59cd5d9aea048/artifacts/data/dataset.abda7fe9162d484ab4f59cd5d9aea048.1orgi_fo.zip\n",
      "2024-02-28 03:41:33,709 - clearml.storage - INFO - Downloading: 190.00MB / 442.64MB @ 19.61MBs from https://files.clear.ml/CIFAR-10%20Project/.datasets/CIFAR-10%20Preprocessed/CIFAR-10%20Preprocessed.abda7fe9162d484ab4f59cd5d9aea048/artifacts/data/dataset.abda7fe9162d484ab4f59cd5d9aea048.1orgi_fo.zip\n",
      "2024-02-28 03:41:34,086 - clearml.storage - INFO - Downloading: 195.00MB / 442.64MB @ 13.30MBs from https://files.clear.ml/CIFAR-10%20Project/.datasets/CIFAR-10%20Preprocessed/CIFAR-10%20Preprocessed.abda7fe9162d484ab4f59cd5d9aea048/artifacts/data/dataset.abda7fe9162d484ab4f59cd5d9aea048.1orgi_fo.zip\n",
      "2024-02-28 03:41:34,449 - clearml.storage - INFO - Downloading: 200.00MB / 442.64MB @ 13.82MBs from https://files.clear.ml/CIFAR-10%20Project/.datasets/CIFAR-10%20Preprocessed/CIFAR-10%20Preprocessed.abda7fe9162d484ab4f59cd5d9aea048/artifacts/data/dataset.abda7fe9162d484ab4f59cd5d9aea048.1orgi_fo.zip\n",
      "2024-02-28 03:41:34,704 - clearml.storage - INFO - Downloading: 205.00MB / 442.64MB @ 19.60MBs from https://files.clear.ml/CIFAR-10%20Project/.datasets/CIFAR-10%20Preprocessed/CIFAR-10%20Preprocessed.abda7fe9162d484ab4f59cd5d9aea048/artifacts/data/dataset.abda7fe9162d484ab4f59cd5d9aea048.1orgi_fo.zip\n",
      "2024-02-28 03:41:35,083 - clearml.storage - INFO - Downloading: 210.00MB / 442.64MB @ 13.23MBs from https://files.clear.ml/CIFAR-10%20Project/.datasets/CIFAR-10%20Preprocessed/CIFAR-10%20Preprocessed.abda7fe9162d484ab4f59cd5d9aea048/artifacts/data/dataset.abda7fe9162d484ab4f59cd5d9aea048.1orgi_fo.zip\n",
      "2024-02-28 03:41:35,444 - clearml.storage - INFO - Downloading: 215.00MB / 442.64MB @ 13.86MBs from https://files.clear.ml/CIFAR-10%20Project/.datasets/CIFAR-10%20Preprocessed/CIFAR-10%20Preprocessed.abda7fe9162d484ab4f59cd5d9aea048/artifacts/data/dataset.abda7fe9162d484ab4f59cd5d9aea048.1orgi_fo.zip\n",
      "2024-02-28 03:41:35,812 - clearml.storage - INFO - Downloading: 220.00MB / 442.64MB @ 13.64MBs from https://files.clear.ml/CIFAR-10%20Project/.datasets/CIFAR-10%20Preprocessed/CIFAR-10%20Preprocessed.abda7fe9162d484ab4f59cd5d9aea048/artifacts/data/dataset.abda7fe9162d484ab4f59cd5d9aea048.1orgi_fo.zip\n",
      "2024-02-28 03:41:36,079 - clearml.storage - INFO - Downloading: 225.00MB / 442.64MB @ 18.74MBs from https://files.clear.ml/CIFAR-10%20Project/.datasets/CIFAR-10%20Preprocessed/CIFAR-10%20Preprocessed.abda7fe9162d484ab4f59cd5d9aea048/artifacts/data/dataset.abda7fe9162d484ab4f59cd5d9aea048.1orgi_fo.zip\n",
      "2024-02-28 03:41:36,449 - clearml.storage - INFO - Downloading: 230.00MB / 442.64MB @ 13.55MBs from https://files.clear.ml/CIFAR-10%20Project/.datasets/CIFAR-10%20Preprocessed/CIFAR-10%20Preprocessed.abda7fe9162d484ab4f59cd5d9aea048/artifacts/data/dataset.abda7fe9162d484ab4f59cd5d9aea048.1orgi_fo.zip\n",
      "2024-02-28 03:41:36,819 - clearml.storage - INFO - Downloading: 235.00MB / 442.64MB @ 13.53MBs from https://files.clear.ml/CIFAR-10%20Project/.datasets/CIFAR-10%20Preprocessed/CIFAR-10%20Preprocessed.abda7fe9162d484ab4f59cd5d9aea048/artifacts/data/dataset.abda7fe9162d484ab4f59cd5d9aea048.1orgi_fo.zip\n",
      "2024-02-28 03:41:37,077 - clearml.storage - INFO - Downloading: 240.00MB / 442.64MB @ 19.43MBs from https://files.clear.ml/CIFAR-10%20Project/.datasets/CIFAR-10%20Preprocessed/CIFAR-10%20Preprocessed.abda7fe9162d484ab4f59cd5d9aea048/artifacts/data/dataset.abda7fe9162d484ab4f59cd5d9aea048.1orgi_fo.zip\n",
      "2024-02-28 03:41:37,455 - clearml.storage - INFO - Downloading: 245.00MB / 442.64MB @ 13.27MBs from https://files.clear.ml/CIFAR-10%20Project/.datasets/CIFAR-10%20Preprocessed/CIFAR-10%20Preprocessed.abda7fe9162d484ab4f59cd5d9aea048/artifacts/data/dataset.abda7fe9162d484ab4f59cd5d9aea048.1orgi_fo.zip\n",
      "2024-02-28 03:41:37,816 - clearml.storage - INFO - Downloading: 250.00MB / 442.64MB @ 13.86MBs from https://files.clear.ml/CIFAR-10%20Project/.datasets/CIFAR-10%20Preprocessed/CIFAR-10%20Preprocessed.abda7fe9162d484ab4f59cd5d9aea048/artifacts/data/dataset.abda7fe9162d484ab4f59cd5d9aea048.1orgi_fo.zip\n",
      "2024-02-28 03:41:38,183 - clearml.storage - INFO - Downloading: 255.00MB / 442.64MB @ 13.65MBs from https://files.clear.ml/CIFAR-10%20Project/.datasets/CIFAR-10%20Preprocessed/CIFAR-10%20Preprocessed.abda7fe9162d484ab4f59cd5d9aea048/artifacts/data/dataset.abda7fe9162d484ab4f59cd5d9aea048.1orgi_fo.zip\n",
      "2024-02-28 03:41:38,452 - clearml.storage - INFO - Downloading: 260.00MB / 442.64MB @ 18.69MBs from https://files.clear.ml/CIFAR-10%20Project/.datasets/CIFAR-10%20Preprocessed/CIFAR-10%20Preprocessed.abda7fe9162d484ab4f59cd5d9aea048/artifacts/data/dataset.abda7fe9162d484ab4f59cd5d9aea048.1orgi_fo.zip\n",
      "2024-02-28 03:41:38,819 - clearml.storage - INFO - Downloading: 265.00MB / 442.64MB @ 13.64MBs from https://files.clear.ml/CIFAR-10%20Project/.datasets/CIFAR-10%20Preprocessed/CIFAR-10%20Preprocessed.abda7fe9162d484ab4f59cd5d9aea048/artifacts/data/dataset.abda7fe9162d484ab4f59cd5d9aea048.1orgi_fo.zip\n",
      "2024-02-28 03:41:39,179 - clearml.storage - INFO - Downloading: 270.00MB / 442.64MB @ 13.91MBs from https://files.clear.ml/CIFAR-10%20Project/.datasets/CIFAR-10%20Preprocessed/CIFAR-10%20Preprocessed.abda7fe9162d484ab4f59cd5d9aea048/artifacts/data/dataset.abda7fe9162d484ab4f59cd5d9aea048.1orgi_fo.zip\n",
      "2024-02-28 03:41:39,446 - clearml.storage - INFO - Downloading: 275.00MB / 442.64MB @ 18.78MBs from https://files.clear.ml/CIFAR-10%20Project/.datasets/CIFAR-10%20Preprocessed/CIFAR-10%20Preprocessed.abda7fe9162d484ab4f59cd5d9aea048/artifacts/data/dataset.abda7fe9162d484ab4f59cd5d9aea048.1orgi_fo.zip\n",
      "2024-02-28 03:41:39,820 - clearml.storage - INFO - Downloading: 280.00MB / 442.64MB @ 13.37MBs from https://files.clear.ml/CIFAR-10%20Project/.datasets/CIFAR-10%20Preprocessed/CIFAR-10%20Preprocessed.abda7fe9162d484ab4f59cd5d9aea048/artifacts/data/dataset.abda7fe9162d484ab4f59cd5d9aea048.1orgi_fo.zip\n",
      "2024-02-28 03:41:40,177 - clearml.storage - INFO - Downloading: 285.00MB / 442.64MB @ 14.05MBs from https://files.clear.ml/CIFAR-10%20Project/.datasets/CIFAR-10%20Preprocessed/CIFAR-10%20Preprocessed.abda7fe9162d484ab4f59cd5d9aea048/artifacts/data/dataset.abda7fe9162d484ab4f59cd5d9aea048.1orgi_fo.zip\n",
      "2024-02-28 03:41:40,446 - clearml.storage - INFO - Downloading: 290.00MB / 442.64MB @ 18.60MBs from https://files.clear.ml/CIFAR-10%20Project/.datasets/CIFAR-10%20Preprocessed/CIFAR-10%20Preprocessed.abda7fe9162d484ab4f59cd5d9aea048/artifacts/data/dataset.abda7fe9162d484ab4f59cd5d9aea048.1orgi_fo.zip\n",
      "2024-02-28 03:41:40,824 - clearml.storage - INFO - Downloading: 295.00MB / 442.64MB @ 13.28MBs from https://files.clear.ml/CIFAR-10%20Project/.datasets/CIFAR-10%20Preprocessed/CIFAR-10%20Preprocessed.abda7fe9162d484ab4f59cd5d9aea048/artifacts/data/dataset.abda7fe9162d484ab4f59cd5d9aea048.1orgi_fo.zip\n",
      "2024-02-28 03:41:41,178 - clearml.storage - INFO - Downloading: 300.00MB / 442.64MB @ 14.14MBs from https://files.clear.ml/CIFAR-10%20Project/.datasets/CIFAR-10%20Preprocessed/CIFAR-10%20Preprocessed.abda7fe9162d484ab4f59cd5d9aea048/artifacts/data/dataset.abda7fe9162d484ab4f59cd5d9aea048.1orgi_fo.zip\n",
      "2024-02-28 03:41:41,544 - clearml.storage - INFO - Downloading: 305.00MB / 442.64MB @ 13.68MBs from https://files.clear.ml/CIFAR-10%20Project/.datasets/CIFAR-10%20Preprocessed/CIFAR-10%20Preprocessed.abda7fe9162d484ab4f59cd5d9aea048/artifacts/data/dataset.abda7fe9162d484ab4f59cd5d9aea048.1orgi_fo.zip\n",
      "2024-02-28 03:41:41,818 - clearml.storage - INFO - Downloading: 310.00MB / 442.64MB @ 18.28MBs from https://files.clear.ml/CIFAR-10%20Project/.datasets/CIFAR-10%20Preprocessed/CIFAR-10%20Preprocessed.abda7fe9162d484ab4f59cd5d9aea048/artifacts/data/dataset.abda7fe9162d484ab4f59cd5d9aea048.1orgi_fo.zip\n",
      "2024-02-28 03:41:42,187 - clearml.storage - INFO - Downloading: 315.00MB / 442.64MB @ 13.57MBs from https://files.clear.ml/CIFAR-10%20Project/.datasets/CIFAR-10%20Preprocessed/CIFAR-10%20Preprocessed.abda7fe9162d484ab4f59cd5d9aea048/artifacts/data/dataset.abda7fe9162d484ab4f59cd5d9aea048.1orgi_fo.zip\n",
      "2024-02-28 03:41:42,547 - clearml.storage - INFO - Downloading: 320.00MB / 442.64MB @ 13.94MBs from https://files.clear.ml/CIFAR-10%20Project/.datasets/CIFAR-10%20Preprocessed/CIFAR-10%20Preprocessed.abda7fe9162d484ab4f59cd5d9aea048/artifacts/data/dataset.abda7fe9162d484ab4f59cd5d9aea048.1orgi_fo.zip\n",
      "2024-02-28 03:41:42,817 - clearml.storage - INFO - Downloading: 325.00MB / 442.64MB @ 18.59MBs from https://files.clear.ml/CIFAR-10%20Project/.datasets/CIFAR-10%20Preprocessed/CIFAR-10%20Preprocessed.abda7fe9162d484ab4f59cd5d9aea048/artifacts/data/dataset.abda7fe9162d484ab4f59cd5d9aea048.1orgi_fo.zip\n",
      "2024-02-28 03:41:43,194 - clearml.storage - INFO - Downloading: 330.00MB / 442.64MB @ 13.28MBs from https://files.clear.ml/CIFAR-10%20Project/.datasets/CIFAR-10%20Preprocessed/CIFAR-10%20Preprocessed.abda7fe9162d484ab4f59cd5d9aea048/artifacts/data/dataset.abda7fe9162d484ab4f59cd5d9aea048.1orgi_fo.zip\n",
      "2024-02-28 03:41:43,549 - clearml.storage - INFO - Downloading: 335.00MB / 442.64MB @ 14.09MBs from https://files.clear.ml/CIFAR-10%20Project/.datasets/CIFAR-10%20Preprocessed/CIFAR-10%20Preprocessed.abda7fe9162d484ab4f59cd5d9aea048/artifacts/data/dataset.abda7fe9162d484ab4f59cd5d9aea048.1orgi_fo.zip\n",
      "2024-02-28 03:41:43,814 - clearml.storage - INFO - Downloading: 340.00MB / 442.64MB @ 18.96MBs from https://files.clear.ml/CIFAR-10%20Project/.datasets/CIFAR-10%20Preprocessed/CIFAR-10%20Preprocessed.abda7fe9162d484ab4f59cd5d9aea048/artifacts/data/dataset.abda7fe9162d484ab4f59cd5d9aea048.1orgi_fo.zip\n",
      "2024-02-28 03:41:44,190 - clearml.storage - INFO - Downloading: 345.00MB / 442.64MB @ 13.31MBs from https://files.clear.ml/CIFAR-10%20Project/.datasets/CIFAR-10%20Preprocessed/CIFAR-10%20Preprocessed.abda7fe9162d484ab4f59cd5d9aea048/artifacts/data/dataset.abda7fe9162d484ab4f59cd5d9aea048.1orgi_fo.zip\n",
      "2024-02-28 03:41:44,552 - clearml.storage - INFO - Downloading: 350.00MB / 442.64MB @ 13.82MBs from https://files.clear.ml/CIFAR-10%20Project/.datasets/CIFAR-10%20Preprocessed/CIFAR-10%20Preprocessed.abda7fe9162d484ab4f59cd5d9aea048/artifacts/data/dataset.abda7fe9162d484ab4f59cd5d9aea048.1orgi_fo.zip\n",
      "2024-02-28 03:41:44,904 - clearml.storage - INFO - Downloading: 355.00MB / 442.64MB @ 14.23MBs from https://files.clear.ml/CIFAR-10%20Project/.datasets/CIFAR-10%20Preprocessed/CIFAR-10%20Preprocessed.abda7fe9162d484ab4f59cd5d9aea048/artifacts/data/dataset.abda7fe9162d484ab4f59cd5d9aea048.1orgi_fo.zip\n",
      "2024-02-28 03:41:45,188 - clearml.storage - INFO - Downloading: 360.00MB / 442.64MB @ 17.67MBs from https://files.clear.ml/CIFAR-10%20Project/.datasets/CIFAR-10%20Preprocessed/CIFAR-10%20Preprocessed.abda7fe9162d484ab4f59cd5d9aea048/artifacts/data/dataset.abda7fe9162d484ab4f59cd5d9aea048.1orgi_fo.zip\n",
      "2024-02-28 03:41:45,553 - clearml.storage - INFO - Downloading: 365.00MB / 442.64MB @ 13.73MBs from https://files.clear.ml/CIFAR-10%20Project/.datasets/CIFAR-10%20Preprocessed/CIFAR-10%20Preprocessed.abda7fe9162d484ab4f59cd5d9aea048/artifacts/data/dataset.abda7fe9162d484ab4f59cd5d9aea048.1orgi_fo.zip\n",
      "2024-02-28 03:41:45,912 - clearml.storage - INFO - Downloading: 370.00MB / 442.64MB @ 13.96MBs from https://files.clear.ml/CIFAR-10%20Project/.datasets/CIFAR-10%20Preprocessed/CIFAR-10%20Preprocessed.abda7fe9162d484ab4f59cd5d9aea048/artifacts/data/dataset.abda7fe9162d484ab4f59cd5d9aea048.1orgi_fo.zip\n",
      "2024-02-28 03:41:46,183 - clearml.storage - INFO - Downloading: 375.00MB / 442.64MB @ 18.46MBs from https://files.clear.ml/CIFAR-10%20Project/.datasets/CIFAR-10%20Preprocessed/CIFAR-10%20Preprocessed.abda7fe9162d484ab4f59cd5d9aea048/artifacts/data/dataset.abda7fe9162d484ab4f59cd5d9aea048.1orgi_fo.zip\n",
      "2024-02-28 03:41:46,553 - clearml.storage - INFO - Downloading: 380.00MB / 442.64MB @ 13.54MBs from https://files.clear.ml/CIFAR-10%20Project/.datasets/CIFAR-10%20Preprocessed/CIFAR-10%20Preprocessed.abda7fe9162d484ab4f59cd5d9aea048/artifacts/data/dataset.abda7fe9162d484ab4f59cd5d9aea048.1orgi_fo.zip\n",
      "2024-02-28 03:41:46,915 - clearml.storage - INFO - Downloading: 385.00MB / 442.64MB @ 13.85MBs from https://files.clear.ml/CIFAR-10%20Project/.datasets/CIFAR-10%20Preprocessed/CIFAR-10%20Preprocessed.abda7fe9162d484ab4f59cd5d9aea048/artifacts/data/dataset.abda7fe9162d484ab4f59cd5d9aea048.1orgi_fo.zip\n",
      "2024-02-28 03:41:47,181 - clearml.storage - INFO - Downloading: 390.00MB / 442.64MB @ 18.81MBs from https://files.clear.ml/CIFAR-10%20Project/.datasets/CIFAR-10%20Preprocessed/CIFAR-10%20Preprocessed.abda7fe9162d484ab4f59cd5d9aea048/artifacts/data/dataset.abda7fe9162d484ab4f59cd5d9aea048.1orgi_fo.zip\n",
      "2024-02-28 03:41:47,552 - clearml.storage - INFO - Downloading: 395.00MB / 442.64MB @ 13.53MBs from https://files.clear.ml/CIFAR-10%20Project/.datasets/CIFAR-10%20Preprocessed/CIFAR-10%20Preprocessed.abda7fe9162d484ab4f59cd5d9aea048/artifacts/data/dataset.abda7fe9162d484ab4f59cd5d9aea048.1orgi_fo.zip\n",
      "2024-02-28 03:41:47,914 - clearml.storage - INFO - Downloading: 400.00MB / 442.64MB @ 13.83MBs from https://files.clear.ml/CIFAR-10%20Project/.datasets/CIFAR-10%20Preprocessed/CIFAR-10%20Preprocessed.abda7fe9162d484ab4f59cd5d9aea048/artifacts/data/dataset.abda7fe9162d484ab4f59cd5d9aea048.1orgi_fo.zip\n",
      "2024-02-28 03:41:48,267 - clearml.storage - INFO - Downloading: 405.00MB / 442.64MB @ 14.20MBs from https://files.clear.ml/CIFAR-10%20Project/.datasets/CIFAR-10%20Preprocessed/CIFAR-10%20Preprocessed.abda7fe9162d484ab4f59cd5d9aea048/artifacts/data/dataset.abda7fe9162d484ab4f59cd5d9aea048.1orgi_fo.zip\n",
      "2024-02-28 03:41:48,554 - clearml.storage - INFO - Downloading: 410.00MB / 442.64MB @ 17.43MBs from https://files.clear.ml/CIFAR-10%20Project/.datasets/CIFAR-10%20Preprocessed/CIFAR-10%20Preprocessed.abda7fe9162d484ab4f59cd5d9aea048/artifacts/data/dataset.abda7fe9162d484ab4f59cd5d9aea048.1orgi_fo.zip\n",
      "2024-02-28 03:41:48,919 - clearml.storage - INFO - Downloading: 415.00MB / 442.64MB @ 13.72MBs from https://files.clear.ml/CIFAR-10%20Project/.datasets/CIFAR-10%20Preprocessed/CIFAR-10%20Preprocessed.abda7fe9162d484ab4f59cd5d9aea048/artifacts/data/dataset.abda7fe9162d484ab4f59cd5d9aea048.1orgi_fo.zip\n",
      "2024-02-28 03:41:49,275 - clearml.storage - INFO - Downloading: 420.00MB / 442.64MB @ 14.06MBs from https://files.clear.ml/CIFAR-10%20Project/.datasets/CIFAR-10%20Preprocessed/CIFAR-10%20Preprocessed.abda7fe9162d484ab4f59cd5d9aea048/artifacts/data/dataset.abda7fe9162d484ab4f59cd5d9aea048.1orgi_fo.zip\n",
      "2024-02-28 03:41:49,549 - clearml.storage - INFO - Downloading: 425.00MB / 442.64MB @ 18.30MBs from https://files.clear.ml/CIFAR-10%20Project/.datasets/CIFAR-10%20Preprocessed/CIFAR-10%20Preprocessed.abda7fe9162d484ab4f59cd5d9aea048/artifacts/data/dataset.abda7fe9162d484ab4f59cd5d9aea048.1orgi_fo.zip\n",
      "2024-02-28 03:41:49,915 - clearml.storage - INFO - Downloading: 430.00MB / 442.64MB @ 13.71MBs from https://files.clear.ml/CIFAR-10%20Project/.datasets/CIFAR-10%20Preprocessed/CIFAR-10%20Preprocessed.abda7fe9162d484ab4f59cd5d9aea048/artifacts/data/dataset.abda7fe9162d484ab4f59cd5d9aea048.1orgi_fo.zip\n",
      "2024-02-28 03:41:50,276 - clearml.storage - INFO - Downloading: 435.00MB / 442.64MB @ 13.85MBs from https://files.clear.ml/CIFAR-10%20Project/.datasets/CIFAR-10%20Preprocessed/CIFAR-10%20Preprocessed.abda7fe9162d484ab4f59cd5d9aea048/artifacts/data/dataset.abda7fe9162d484ab4f59cd5d9aea048.1orgi_fo.zip\n",
      "2024-02-28 03:41:50,545 - clearml.storage - INFO - Downloading: 440.00MB / 442.64MB @ 18.68MBs from https://files.clear.ml/CIFAR-10%20Project/.datasets/CIFAR-10%20Preprocessed/CIFAR-10%20Preprocessed.abda7fe9162d484ab4f59cd5d9aea048/artifacts/data/dataset.abda7fe9162d484ab4f59cd5d9aea048.1orgi_fo.zip\n",
      "2024-02-28 03:41:50,739 - clearml.storage - INFO - Downloading: 442.64MB / 442.64MB @ 13.64MBs from https://files.clear.ml/CIFAR-10%20Project/.datasets/CIFAR-10%20Preprocessed/CIFAR-10%20Preprocessed.abda7fe9162d484ab4f59cd5d9aea048/artifacts/data/dataset.abda7fe9162d484ab4f59cd5d9aea048.1orgi_fo.zip\n",
      "2024-02-28 03:41:54,287 - clearml.storage - INFO - Downloaded 442.64 MB successfully from https://files.clear.ml/CIFAR-10%20Project/.datasets/CIFAR-10%20Preprocessed/CIFAR-10%20Preprocessed.abda7fe9162d484ab4f59cd5d9aea048/artifacts/data/dataset.abda7fe9162d484ab4f59cd5d9aea048.1orgi_fo.zip , saved to /root/.clearml/cache/storage_manager/datasets/b5d93a890e4ce71412feca0ed747f3fa.dataset.abda7fe9162d484ab4f59cd5d9aea048.1orgi_fo.zip\n",
      "2024-02-28 03:42:13,104 - clearml - INFO - Dataset.get() did not specify alias. Dataset information will not be automatically logged in ClearML Server.\n",
      "2024-02-28 03:42:22,936 - clearml - INFO - Dataset.get() did not specify alias. Dataset information will not be automatically logged in ClearML Server.\n",
      "2024-02-28 03:42:32,797 - clearml - INFO - Dataset.get() did not specify alias. Dataset information will not be automatically logged in ClearML Server.\n",
      "2024-02-28 03:42:42,670 - clearml - INFO - Dataset.get() did not specify alias. Dataset information will not be automatically logged in ClearML Server.\n",
      "2024-02-28 03:42:53.240425: I tensorflow/compiler/xla/stream_executor/cuda/cuda_gpu_executor.cc:995] successful NUMA node read from SysFS had negative value (-1), but there must be at least one NUMA node, so returning NUMA node zero. See more at https://github.com/torvalds/linux/blob/v6.0/Documentation/ABI/testing/sysfs-bus-pci#L344-L355\n",
      "2024-02-28 03:42:53.274665: I tensorflow/compiler/xla/stream_executor/cuda/cuda_gpu_executor.cc:995] successful NUMA node read from SysFS had negative value (-1), but there must be at least one NUMA node, so returning NUMA node zero. See more at https://github.com/torvalds/linux/blob/v6.0/Documentation/ABI/testing/sysfs-bus-pci#L344-L355\n",
      "2024-02-28 03:42:53.278035: I tensorflow/compiler/xla/stream_executor/cuda/cuda_gpu_executor.cc:995] successful NUMA node read from SysFS had negative value (-1), but there must be at least one NUMA node, so returning NUMA node zero. See more at https://github.com/torvalds/linux/blob/v6.0/Documentation/ABI/testing/sysfs-bus-pci#L344-L355\n",
      "2024-02-28 03:42:53.281825: I tensorflow/compiler/xla/stream_executor/cuda/cuda_gpu_executor.cc:995] successful NUMA node read from SysFS had negative value (-1), but there must be at least one NUMA node, so returning NUMA node zero. See more at https://github.com/torvalds/linux/blob/v6.0/Documentation/ABI/testing/sysfs-bus-pci#L344-L355\n",
      "2024-02-28 03:42:53.285131: I tensorflow/compiler/xla/stream_executor/cuda/cuda_gpu_executor.cc:995] successful NUMA node read from SysFS had negative value (-1), but there must be at least one NUMA node, so returning NUMA node zero. See more at https://github.com/torvalds/linux/blob/v6.0/Documentation/ABI/testing/sysfs-bus-pci#L344-L355\n",
      "2024-02-28 03:42:53.288204: I tensorflow/compiler/xla/stream_executor/cuda/cuda_gpu_executor.cc:995] successful NUMA node read from SysFS had negative value (-1), but there must be at least one NUMA node, so returning NUMA node zero. See more at https://github.com/torvalds/linux/blob/v6.0/Documentation/ABI/testing/sysfs-bus-pci#L344-L355\n",
      "2024-02-28 03:42:53.490974: I tensorflow/compiler/xla/stream_executor/cuda/cuda_gpu_executor.cc:995] successful NUMA node read from SysFS had negative value (-1), but there must be at least one NUMA node, so returning NUMA node zero. See more at https://github.com/torvalds/linux/blob/v6.0/Documentation/ABI/testing/sysfs-bus-pci#L344-L355\n",
      "2024-02-28 03:42:53.493056: I tensorflow/compiler/xla/stream_executor/cuda/cuda_gpu_executor.cc:995] successful NUMA node read from SysFS had negative value (-1), but there must be at least one NUMA node, so returning NUMA node zero. See more at https://github.com/torvalds/linux/blob/v6.0/Documentation/ABI/testing/sysfs-bus-pci#L344-L355\n",
      "2024-02-28 03:42:53.495004: I tensorflow/compiler/xla/stream_executor/cuda/cuda_gpu_executor.cc:995] successful NUMA node read from SysFS had negative value (-1), but there must be at least one NUMA node, so returning NUMA node zero. See more at https://github.com/torvalds/linux/blob/v6.0/Documentation/ABI/testing/sysfs-bus-pci#L344-L355\n",
      "2024-02-28 03:42:53.496872: I tensorflow/core/common_runtime/gpu/gpu_device.cc:1639] Created device /job:localhost/replica:0/task:0/device:GPU:0 with 13775 MB memory:  -> device: 0, name: Tesla T4, pci bus id: 0000:00:1e.0, compute capability: 7.5\n",
      "Epoch 1/10\n",
      "2024-02-28 03:42:57.648586: I tensorflow/compiler/xla/stream_executor/cuda/cuda_dnn.cc:432] Loaded cuDNN version 8903\n",
      "2024-02-28 03:42:57.982470: I tensorflow/compiler/xla/service/service.cc:168] XLA service 0x561668918320 initialized for platform CUDA (this does not guarantee that XLA will be used). Devices:\n",
      "2024-02-28 03:42:57.982515: I tensorflow/compiler/xla/service/service.cc:176]   StreamExecutor device (0): Tesla T4, Compute Capability 7.5\n",
      "2024-02-28 03:42:57.990861: I tensorflow/compiler/mlir/tensorflow/utils/dump_mlir_util.cc:255] disabling MLIR crash reproducer, set env var `MLIR_CRASH_REPRODUCER_DIRECTORY` to enable.\n",
      "2024-02-28 03:42:58.154211: I ./tensorflow/compiler/jit/device_compiler.h:186] Compiled cluster using XLA!  This line is logged at most once for the lifetime of the process.\n",
      "1563/1563 [==============================] - 14s 7ms/step - loss: 1.5342 - accuracy: 0.4412 - val_loss: 1.2687 - val_accuracy: 0.5510\n",
      "Epoch 2/10\n",
      "1563/1563 [==============================] - 9s 6ms/step - loss: 1.1539 - accuracy: 0.5901 - val_loss: 1.0781 - val_accuracy: 0.6189\n",
      "Epoch 3/10\n",
      "1563/1563 [==============================] - 9s 6ms/step - loss: 1.0053 - accuracy: 0.6469 - val_loss: 1.0312 - val_accuracy: 0.6368\n",
      "Epoch 4/10\n",
      "1563/1563 [==============================] - 9s 6ms/step - loss: 0.9124 - accuracy: 0.6801 - val_loss: 0.9279 - val_accuracy: 0.6776\n",
      "Epoch 5/10\n",
      "1563/1563 [==============================] - 9s 6ms/step - loss: 0.8430 - accuracy: 0.7040 - val_loss: 0.9443 - val_accuracy: 0.6795\n",
      "Epoch 6/10\n",
      "1563/1563 [==============================] - 9s 6ms/step - loss: 0.7867 - accuracy: 0.7258 - val_loss: 0.9014 - val_accuracy: 0.6851\n",
      "Epoch 7/10\n",
      "1563/1563 [==============================] - 9s 6ms/step - loss: 0.7417 - accuracy: 0.7401 - val_loss: 0.8726 - val_accuracy: 0.6988\n",
      "Epoch 8/10\n",
      "1563/1563 [==============================] - 9s 6ms/step - loss: 0.6983 - accuracy: 0.7554 - val_loss: 0.8974 - val_accuracy: 0.6973\n",
      "Epoch 9/10\n",
      "1563/1563 [==============================] - 9s 6ms/step - loss: 0.6557 - accuracy: 0.7711 - val_loss: 0.9029 - val_accuracy: 0.6972\n",
      "Epoch 10/10\n",
      "1563/1563 [==============================] - 9s 6ms/step - loss: 0.6166 - accuracy: 0.7832 - val_loss: 0.9011 - val_accuracy: 0.7035\n",
      "/root/Repositories/First_MLOPS_Pipeline/.venv/lib/python3.10/site-packages/clearml/binding/frameworks/tensorflow_bind.py:1918: UserWarning:\n",
      "\n",
      "You are saving your model as an HDF5 file via `model.save()`. This file format is considered legacy. We recommend using instead the native Keras format, e.g. `model.save('my_model.keras')`.\n",
      "\n",
      "2024-02-28 03:45:22,968 - clearml.frameworks - INFO - Found existing registered model id=3e050421d9fb4753a69b8f508b2c6da8 [/root/Repositories/First_MLOPS_Pipeline/model.h5] reusing it.\n",
      "2024-02-28 03:45:44,371 - clearml.Task - INFO - Completed model upload to https://files.clear.ml/CIFAR-10%20Project/Train%20CIFAR-10%20Model.a74bbaf8f7fa4f29bbb26ba222949b0f/models/model.h5\n",
      "Launching the next 2 steps\n",
      "Launching step [evaluate_cifar10_model]Launching step [update_model_in_github]\n",
      "\n",
      "Launching step: evaluate_cifar10_model\n",
      "Parameters:\n",
      "{'kwargs/project_name': '${pipeline.dataset_project}', 'kwargs_artifacts/model_id': '${train_cifar10_model.id}.model_id', 'kwargs_artifacts/processed_dataset_id': '${preprocess_cifar10_data.id}.processed_dataset_id'}\n",
      "Configurations:\n",
      "{}\n",
      "Overrides:\n",
      "{}\n",
      "Launching step: update_model_in_github\n",
      "Parameters:\n",
      "{'kwargs/env_path': '${pipeline.env_path}', 'kwargs/REPO_URL': '${pipeline.REPO_URL}', 'kwargs/DEVELOPMENT_BRANCH': '${pipeline.DEVELOPMENT_BRANCH}', 'kwargs/project_name': '${pipeline.dataset_project}', 'kwargs_artifacts/model_id': '${train_cifar10_model.id}.model_id'}\n",
      "Configurations:\n",
      "{}\n",
      "Overrides:\n",
      "{}\n",
      "2024-02-28 03:46:49.996381: I tensorflow/core/util/port.cc:110] oneDNN custom operations are on. You may see slightly different numerical results due to floating-point round-off errors from different computation orders. To turn them off, set the environment variable `TF_ENABLE_ONEDNN_OPTS=0`.\n",
      "2024-02-28 03:46:50.076007: I tensorflow/core/platform/cpu_feature_guard.cc:182] This TensorFlow binary is optimized to use available CPU instructions in performance-critical operations.\n",
      "To enable the following instructions: AVX2 AVX512F AVX512_VNNI FMA, in other operations, rebuild TensorFlow with the appropriate compiler flags.\n",
      "ClearML results page: https://app.clear.ml/projects/2ef0744e19f043b98076c0e7de33c1ab/experiments/a07a824b7a2f471da7de305a0ec4414c/output/log\n",
      "2024-02-28 03:46:56.147846: W tensorflow/compiler/tf2tensorrt/utils/py_utils.cc:38] TF-TRT Warning: Could not find TensorRT\n",
      "Cifar10_SimpleFlaskApp\n",
      "Launching the next 0 steps\n",
      "WARNING:tensorflow:Please fix your imports. Module tensorflow.python.training.tracking.util has been moved to tensorflow.python.checkpoint.checkpoint. The old module will be deleted in version 2.11.\n",
      "ClearML results page: https://app.clear.ml/projects/2ef0744e19f043b98076c0e7de33c1ab/experiments/045f875961dd4639aa0791a14c13f83a/output/log\n",
      "2024-02-28 03:48:02.189188: I tensorflow/compiler/xla/stream_executor/cuda/cuda_gpu_executor.cc:995] successful NUMA node read from SysFS had negative value (-1), but there must be at least one NUMA node, so returning NUMA node zero. See more at https://github.com/torvalds/linux/blob/v6.0/Documentation/ABI/testing/sysfs-bus-pci#L344-L355\n",
      "2024-02-28 03:48:02.238827: I tensorflow/compiler/xla/stream_executor/cuda/cuda_gpu_executor.cc:995] successful NUMA node read from SysFS had negative value (-1), but there must be at least one NUMA node, so returning NUMA node zero. See more at https://github.com/torvalds/linux/blob/v6.0/Documentation/ABI/testing/sysfs-bus-pci#L344-L355\n",
      "2024-02-28 03:48:02.240859: I tensorflow/compiler/xla/stream_executor/cuda/cuda_gpu_executor.cc:995] successful NUMA node read from SysFS had negative value (-1), but there must be at least one NUMA node, so returning NUMA node zero. See more at https://github.com/torvalds/linux/blob/v6.0/Documentation/ABI/testing/sysfs-bus-pci#L344-L355\n",
      "2024-02-28 03:48:02.243648: I tensorflow/compiler/xla/stream_executor/cuda/cuda_gpu_executor.cc:995] successful NUMA node read from SysFS had negative value (-1), but there must be at least one NUMA node, so returning NUMA node zero. See more at https://github.com/torvalds/linux/blob/v6.0/Documentation/ABI/testing/sysfs-bus-pci#L344-L355\n",
      "2024-02-28 03:48:02.245651: I tensorflow/compiler/xla/stream_executor/cuda/cuda_gpu_executor.cc:995] successful NUMA node read from SysFS had negative value (-1), but there must be at least one NUMA node, so returning NUMA node zero. See more at https://github.com/torvalds/linux/blob/v6.0/Documentation/ABI/testing/sysfs-bus-pci#L344-L355\n",
      "2024-02-28 03:48:02.247595: I tensorflow/compiler/xla/stream_executor/cuda/cuda_gpu_executor.cc:995] successful NUMA node read from SysFS had negative value (-1), but there must be at least one NUMA node, so returning NUMA node zero. See more at https://github.com/torvalds/linux/blob/v6.0/Documentation/ABI/testing/sysfs-bus-pci#L344-L355\n",
      "2024-02-28 03:48:02.434444: I tensorflow/compiler/xla/stream_executor/cuda/cuda_gpu_executor.cc:995] successful NUMA node read from SysFS had negative value (-1), but there must be at least one NUMA node, so returning NUMA node zero. See more at https://github.com/torvalds/linux/blob/v6.0/Documentation/ABI/testing/sysfs-bus-pci#L344-L355\n",
      "2024-02-28 03:48:02.436570: I tensorflow/compiler/xla/stream_executor/cuda/cuda_gpu_executor.cc:995] successful NUMA node read from SysFS had negative value (-1), but there must be at least one NUMA node, so returning NUMA node zero. See more at https://github.com/torvalds/linux/blob/v6.0/Documentation/ABI/testing/sysfs-bus-pci#L344-L355\n",
      "2024-02-28 03:48:02.438527: I tensorflow/compiler/xla/stream_executor/cuda/cuda_gpu_executor.cc:995] successful NUMA node read from SysFS had negative value (-1), but there must be at least one NUMA node, so returning NUMA node zero. See more at https://github.com/torvalds/linux/blob/v6.0/Documentation/ABI/testing/sysfs-bus-pci#L344-L355\n",
      "2024-02-28 03:48:02.440369: I tensorflow/core/common_runtime/gpu/gpu_device.cc:1639] Created device /job:localhost/replica:0/task:0/device:GPU:0 with 13775 MB memory:  -> device: 0, name: Tesla T4, pci bus id: 0000:00:1e.0, compute capability: 7.5\n",
      "2024-02-28 03:48:08,634 - clearml - INFO - Dataset.get() did not specify alias. Dataset information will not be automatically logged in ClearML Server.\n",
      "2024-02-28 03:48:20.063839: I tensorflow/compiler/xla/stream_executor/cuda/cuda_dnn.cc:432] Loaded cuDNN version 8903\n",
      "313/313 [==============================] - 2s 4ms/step - loss: 0.9011 - accuracy: 0.7035\n",
      "Test Loss: 0.9011422991752625, Test Accuracy: 0.703499972820282\n",
      "313/313 [==============================] - 1s 2ms/step\n",
      "Launching the next 0 steps\n",
      "CIFAR-10 pipeline initiated. Check ClearML for progress.\n"
     ]
    }
   ],
   "source": [
    "!/root/poetry/bin/poetry run python -m first_mlops_pipeline --env_path \"/root/Repositories/First_MLOPS_Pipeline/.env\""
   ]
  },
  {
   "cell_type": "markdown",
   "id": "6eeeec49",
   "metadata": {},
   "source": [
    "### End of Runner.ipynb"
   ]
  }
 ],
 "metadata": {
  "availableInstances": [
   {
    "_defaultOrder": 0,
    "_isFastLaunch": true,
    "category": "General purpose",
    "gpuNum": 0,
    "hideHardwareSpecs": false,
    "memoryGiB": 4,
    "name": "ml.t3.medium",
    "vcpuNum": 2
   },
   {
    "_defaultOrder": 1,
    "_isFastLaunch": false,
    "category": "General purpose",
    "gpuNum": 0,
    "hideHardwareSpecs": false,
    "memoryGiB": 8,
    "name": "ml.t3.large",
    "vcpuNum": 2
   },
   {
    "_defaultOrder": 2,
    "_isFastLaunch": false,
    "category": "General purpose",
    "gpuNum": 0,
    "hideHardwareSpecs": false,
    "memoryGiB": 16,
    "name": "ml.t3.xlarge",
    "vcpuNum": 4
   },
   {
    "_defaultOrder": 3,
    "_isFastLaunch": false,
    "category": "General purpose",
    "gpuNum": 0,
    "hideHardwareSpecs": false,
    "memoryGiB": 32,
    "name": "ml.t3.2xlarge",
    "vcpuNum": 8
   },
   {
    "_defaultOrder": 4,
    "_isFastLaunch": true,
    "category": "General purpose",
    "gpuNum": 0,
    "hideHardwareSpecs": false,
    "memoryGiB": 8,
    "name": "ml.m5.large",
    "vcpuNum": 2
   },
   {
    "_defaultOrder": 5,
    "_isFastLaunch": false,
    "category": "General purpose",
    "gpuNum": 0,
    "hideHardwareSpecs": false,
    "memoryGiB": 16,
    "name": "ml.m5.xlarge",
    "vcpuNum": 4
   },
   {
    "_defaultOrder": 6,
    "_isFastLaunch": false,
    "category": "General purpose",
    "gpuNum": 0,
    "hideHardwareSpecs": false,
    "memoryGiB": 32,
    "name": "ml.m5.2xlarge",
    "vcpuNum": 8
   },
   {
    "_defaultOrder": 7,
    "_isFastLaunch": false,
    "category": "General purpose",
    "gpuNum": 0,
    "hideHardwareSpecs": false,
    "memoryGiB": 64,
    "name": "ml.m5.4xlarge",
    "vcpuNum": 16
   },
   {
    "_defaultOrder": 8,
    "_isFastLaunch": false,
    "category": "General purpose",
    "gpuNum": 0,
    "hideHardwareSpecs": false,
    "memoryGiB": 128,
    "name": "ml.m5.8xlarge",
    "vcpuNum": 32
   },
   {
    "_defaultOrder": 9,
    "_isFastLaunch": false,
    "category": "General purpose",
    "gpuNum": 0,
    "hideHardwareSpecs": false,
    "memoryGiB": 192,
    "name": "ml.m5.12xlarge",
    "vcpuNum": 48
   },
   {
    "_defaultOrder": 10,
    "_isFastLaunch": false,
    "category": "General purpose",
    "gpuNum": 0,
    "hideHardwareSpecs": false,
    "memoryGiB": 256,
    "name": "ml.m5.16xlarge",
    "vcpuNum": 64
   },
   {
    "_defaultOrder": 11,
    "_isFastLaunch": false,
    "category": "General purpose",
    "gpuNum": 0,
    "hideHardwareSpecs": false,
    "memoryGiB": 384,
    "name": "ml.m5.24xlarge",
    "vcpuNum": 96
   },
   {
    "_defaultOrder": 12,
    "_isFastLaunch": false,
    "category": "General purpose",
    "gpuNum": 0,
    "hideHardwareSpecs": false,
    "memoryGiB": 8,
    "name": "ml.m5d.large",
    "vcpuNum": 2
   },
   {
    "_defaultOrder": 13,
    "_isFastLaunch": false,
    "category": "General purpose",
    "gpuNum": 0,
    "hideHardwareSpecs": false,
    "memoryGiB": 16,
    "name": "ml.m5d.xlarge",
    "vcpuNum": 4
   },
   {
    "_defaultOrder": 14,
    "_isFastLaunch": false,
    "category": "General purpose",
    "gpuNum": 0,
    "hideHardwareSpecs": false,
    "memoryGiB": 32,
    "name": "ml.m5d.2xlarge",
    "vcpuNum": 8
   },
   {
    "_defaultOrder": 15,
    "_isFastLaunch": false,
    "category": "General purpose",
    "gpuNum": 0,
    "hideHardwareSpecs": false,
    "memoryGiB": 64,
    "name": "ml.m5d.4xlarge",
    "vcpuNum": 16
   },
   {
    "_defaultOrder": 16,
    "_isFastLaunch": false,
    "category": "General purpose",
    "gpuNum": 0,
    "hideHardwareSpecs": false,
    "memoryGiB": 128,
    "name": "ml.m5d.8xlarge",
    "vcpuNum": 32
   },
   {
    "_defaultOrder": 17,
    "_isFastLaunch": false,
    "category": "General purpose",
    "gpuNum": 0,
    "hideHardwareSpecs": false,
    "memoryGiB": 192,
    "name": "ml.m5d.12xlarge",
    "vcpuNum": 48
   },
   {
    "_defaultOrder": 18,
    "_isFastLaunch": false,
    "category": "General purpose",
    "gpuNum": 0,
    "hideHardwareSpecs": false,
    "memoryGiB": 256,
    "name": "ml.m5d.16xlarge",
    "vcpuNum": 64
   },
   {
    "_defaultOrder": 19,
    "_isFastLaunch": false,
    "category": "General purpose",
    "gpuNum": 0,
    "hideHardwareSpecs": false,
    "memoryGiB": 384,
    "name": "ml.m5d.24xlarge",
    "vcpuNum": 96
   },
   {
    "_defaultOrder": 20,
    "_isFastLaunch": false,
    "category": "General purpose",
    "gpuNum": 0,
    "hideHardwareSpecs": true,
    "memoryGiB": 0,
    "name": "ml.geospatial.interactive",
    "supportedImageNames": [
     "sagemaker-geospatial-v1-0"
    ],
    "vcpuNum": 0
   },
   {
    "_defaultOrder": 21,
    "_isFastLaunch": true,
    "category": "Compute optimized",
    "gpuNum": 0,
    "hideHardwareSpecs": false,
    "memoryGiB": 4,
    "name": "ml.c5.large",
    "vcpuNum": 2
   },
   {
    "_defaultOrder": 22,
    "_isFastLaunch": false,
    "category": "Compute optimized",
    "gpuNum": 0,
    "hideHardwareSpecs": false,
    "memoryGiB": 8,
    "name": "ml.c5.xlarge",
    "vcpuNum": 4
   },
   {
    "_defaultOrder": 23,
    "_isFastLaunch": false,
    "category": "Compute optimized",
    "gpuNum": 0,
    "hideHardwareSpecs": false,
    "memoryGiB": 16,
    "name": "ml.c5.2xlarge",
    "vcpuNum": 8
   },
   {
    "_defaultOrder": 24,
    "_isFastLaunch": false,
    "category": "Compute optimized",
    "gpuNum": 0,
    "hideHardwareSpecs": false,
    "memoryGiB": 32,
    "name": "ml.c5.4xlarge",
    "vcpuNum": 16
   },
   {
    "_defaultOrder": 25,
    "_isFastLaunch": false,
    "category": "Compute optimized",
    "gpuNum": 0,
    "hideHardwareSpecs": false,
    "memoryGiB": 72,
    "name": "ml.c5.9xlarge",
    "vcpuNum": 36
   },
   {
    "_defaultOrder": 26,
    "_isFastLaunch": false,
    "category": "Compute optimized",
    "gpuNum": 0,
    "hideHardwareSpecs": false,
    "memoryGiB": 96,
    "name": "ml.c5.12xlarge",
    "vcpuNum": 48
   },
   {
    "_defaultOrder": 27,
    "_isFastLaunch": false,
    "category": "Compute optimized",
    "gpuNum": 0,
    "hideHardwareSpecs": false,
    "memoryGiB": 144,
    "name": "ml.c5.18xlarge",
    "vcpuNum": 72
   },
   {
    "_defaultOrder": 28,
    "_isFastLaunch": false,
    "category": "Compute optimized",
    "gpuNum": 0,
    "hideHardwareSpecs": false,
    "memoryGiB": 192,
    "name": "ml.c5.24xlarge",
    "vcpuNum": 96
   },
   {
    "_defaultOrder": 29,
    "_isFastLaunch": true,
    "category": "Accelerated computing",
    "gpuNum": 1,
    "hideHardwareSpecs": false,
    "memoryGiB": 16,
    "name": "ml.g4dn.xlarge",
    "vcpuNum": 4
   },
   {
    "_defaultOrder": 30,
    "_isFastLaunch": false,
    "category": "Accelerated computing",
    "gpuNum": 1,
    "hideHardwareSpecs": false,
    "memoryGiB": 32,
    "name": "ml.g4dn.2xlarge",
    "vcpuNum": 8
   },
   {
    "_defaultOrder": 31,
    "_isFastLaunch": false,
    "category": "Accelerated computing",
    "gpuNum": 1,
    "hideHardwareSpecs": false,
    "memoryGiB": 64,
    "name": "ml.g4dn.4xlarge",
    "vcpuNum": 16
   },
   {
    "_defaultOrder": 32,
    "_isFastLaunch": false,
    "category": "Accelerated computing",
    "gpuNum": 1,
    "hideHardwareSpecs": false,
    "memoryGiB": 128,
    "name": "ml.g4dn.8xlarge",
    "vcpuNum": 32
   },
   {
    "_defaultOrder": 33,
    "_isFastLaunch": false,
    "category": "Accelerated computing",
    "gpuNum": 4,
    "hideHardwareSpecs": false,
    "memoryGiB": 192,
    "name": "ml.g4dn.12xlarge",
    "vcpuNum": 48
   },
   {
    "_defaultOrder": 34,
    "_isFastLaunch": false,
    "category": "Accelerated computing",
    "gpuNum": 1,
    "hideHardwareSpecs": false,
    "memoryGiB": 256,
    "name": "ml.g4dn.16xlarge",
    "vcpuNum": 64
   },
   {
    "_defaultOrder": 35,
    "_isFastLaunch": false,
    "category": "Accelerated computing",
    "gpuNum": 1,
    "hideHardwareSpecs": false,
    "memoryGiB": 61,
    "name": "ml.p3.2xlarge",
    "vcpuNum": 8
   },
   {
    "_defaultOrder": 36,
    "_isFastLaunch": false,
    "category": "Accelerated computing",
    "gpuNum": 4,
    "hideHardwareSpecs": false,
    "memoryGiB": 244,
    "name": "ml.p3.8xlarge",
    "vcpuNum": 32
   },
   {
    "_defaultOrder": 37,
    "_isFastLaunch": false,
    "category": "Accelerated computing",
    "gpuNum": 8,
    "hideHardwareSpecs": false,
    "memoryGiB": 488,
    "name": "ml.p3.16xlarge",
    "vcpuNum": 64
   },
   {
    "_defaultOrder": 38,
    "_isFastLaunch": false,
    "category": "Accelerated computing",
    "gpuNum": 8,
    "hideHardwareSpecs": false,
    "memoryGiB": 768,
    "name": "ml.p3dn.24xlarge",
    "vcpuNum": 96
   },
   {
    "_defaultOrder": 39,
    "_isFastLaunch": false,
    "category": "Memory Optimized",
    "gpuNum": 0,
    "hideHardwareSpecs": false,
    "memoryGiB": 16,
    "name": "ml.r5.large",
    "vcpuNum": 2
   },
   {
    "_defaultOrder": 40,
    "_isFastLaunch": false,
    "category": "Memory Optimized",
    "gpuNum": 0,
    "hideHardwareSpecs": false,
    "memoryGiB": 32,
    "name": "ml.r5.xlarge",
    "vcpuNum": 4
   },
   {
    "_defaultOrder": 41,
    "_isFastLaunch": false,
    "category": "Memory Optimized",
    "gpuNum": 0,
    "hideHardwareSpecs": false,
    "memoryGiB": 64,
    "name": "ml.r5.2xlarge",
    "vcpuNum": 8
   },
   {
    "_defaultOrder": 42,
    "_isFastLaunch": false,
    "category": "Memory Optimized",
    "gpuNum": 0,
    "hideHardwareSpecs": false,
    "memoryGiB": 128,
    "name": "ml.r5.4xlarge",
    "vcpuNum": 16
   },
   {
    "_defaultOrder": 43,
    "_isFastLaunch": false,
    "category": "Memory Optimized",
    "gpuNum": 0,
    "hideHardwareSpecs": false,
    "memoryGiB": 256,
    "name": "ml.r5.8xlarge",
    "vcpuNum": 32
   },
   {
    "_defaultOrder": 44,
    "_isFastLaunch": false,
    "category": "Memory Optimized",
    "gpuNum": 0,
    "hideHardwareSpecs": false,
    "memoryGiB": 384,
    "name": "ml.r5.12xlarge",
    "vcpuNum": 48
   },
   {
    "_defaultOrder": 45,
    "_isFastLaunch": false,
    "category": "Memory Optimized",
    "gpuNum": 0,
    "hideHardwareSpecs": false,
    "memoryGiB": 512,
    "name": "ml.r5.16xlarge",
    "vcpuNum": 64
   },
   {
    "_defaultOrder": 46,
    "_isFastLaunch": false,
    "category": "Memory Optimized",
    "gpuNum": 0,
    "hideHardwareSpecs": false,
    "memoryGiB": 768,
    "name": "ml.r5.24xlarge",
    "vcpuNum": 96
   },
   {
    "_defaultOrder": 47,
    "_isFastLaunch": false,
    "category": "Accelerated computing",
    "gpuNum": 1,
    "hideHardwareSpecs": false,
    "memoryGiB": 16,
    "name": "ml.g5.xlarge",
    "vcpuNum": 4
   },
   {
    "_defaultOrder": 48,
    "_isFastLaunch": false,
    "category": "Accelerated computing",
    "gpuNum": 1,
    "hideHardwareSpecs": false,
    "memoryGiB": 32,
    "name": "ml.g5.2xlarge",
    "vcpuNum": 8
   },
   {
    "_defaultOrder": 49,
    "_isFastLaunch": false,
    "category": "Accelerated computing",
    "gpuNum": 1,
    "hideHardwareSpecs": false,
    "memoryGiB": 64,
    "name": "ml.g5.4xlarge",
    "vcpuNum": 16
   },
   {
    "_defaultOrder": 50,
    "_isFastLaunch": false,
    "category": "Accelerated computing",
    "gpuNum": 1,
    "hideHardwareSpecs": false,
    "memoryGiB": 128,
    "name": "ml.g5.8xlarge",
    "vcpuNum": 32
   },
   {
    "_defaultOrder": 51,
    "_isFastLaunch": false,
    "category": "Accelerated computing",
    "gpuNum": 1,
    "hideHardwareSpecs": false,
    "memoryGiB": 256,
    "name": "ml.g5.16xlarge",
    "vcpuNum": 64
   },
   {
    "_defaultOrder": 52,
    "_isFastLaunch": false,
    "category": "Accelerated computing",
    "gpuNum": 4,
    "hideHardwareSpecs": false,
    "memoryGiB": 192,
    "name": "ml.g5.12xlarge",
    "vcpuNum": 48
   },
   {
    "_defaultOrder": 53,
    "_isFastLaunch": false,
    "category": "Accelerated computing",
    "gpuNum": 4,
    "hideHardwareSpecs": false,
    "memoryGiB": 384,
    "name": "ml.g5.24xlarge",
    "vcpuNum": 96
   },
   {
    "_defaultOrder": 54,
    "_isFastLaunch": false,
    "category": "Accelerated computing",
    "gpuNum": 8,
    "hideHardwareSpecs": false,
    "memoryGiB": 768,
    "name": "ml.g5.48xlarge",
    "vcpuNum": 192
   },
   {
    "_defaultOrder": 55,
    "_isFastLaunch": false,
    "category": "Accelerated computing",
    "gpuNum": 8,
    "hideHardwareSpecs": false,
    "memoryGiB": 1152,
    "name": "ml.p4d.24xlarge",
    "vcpuNum": 96
   },
   {
    "_defaultOrder": 56,
    "_isFastLaunch": false,
    "category": "Accelerated computing",
    "gpuNum": 8,
    "hideHardwareSpecs": false,
    "memoryGiB": 1152,
    "name": "ml.p4de.24xlarge",
    "vcpuNum": 96
   },
   {
    "_defaultOrder": 57,
    "_isFastLaunch": false,
    "category": "Accelerated computing",
    "gpuNum": 0,
    "hideHardwareSpecs": false,
    "memoryGiB": 32,
    "name": "ml.trn1.2xlarge",
    "vcpuNum": 8
   },
   {
    "_defaultOrder": 58,
    "_isFastLaunch": false,
    "category": "Accelerated computing",
    "gpuNum": 0,
    "hideHardwareSpecs": false,
    "memoryGiB": 512,
    "name": "ml.trn1.32xlarge",
    "vcpuNum": 128
   },
   {
    "_defaultOrder": 59,
    "_isFastLaunch": false,
    "category": "Accelerated computing",
    "gpuNum": 0,
    "hideHardwareSpecs": false,
    "memoryGiB": 512,
    "name": "ml.trn1n.32xlarge",
    "vcpuNum": 128
   }
  ],
  "instance_type": "ml.g4dn.xlarge",
  "kernelspec": {
   "display_name": "Python 3 (TensorFlow 2.13.0 Python 3.10 GPU Optimized)",
   "language": "python",
   "name": "python3__SAGEMAKER_INTERNAL__arn:aws:sagemaker:ap-southeast-2:452832661640:image/tensorflow-2.13.0-gpu-py310-cu118-ubuntu20.04-sagemaker-v1.0"
  },
  "language_info": {
   "codemirror_mode": {
    "name": "ipython",
    "version": 3
   },
   "file_extension": ".py",
   "mimetype": "text/x-python",
   "name": "python",
   "nbconvert_exporter": "python",
   "pygments_lexer": "ipython3",
   "version": "3.10.12"
  }
 },
 "nbformat": 4,
 "nbformat_minor": 5
}
